{
 "cells": [
  {
   "cell_type": "markdown",
   "metadata": {},
   "source": [
    "# Шифрование — обратимое преобразование информации в целях сокрытия от неавторизованных лиц, с предоставлением, в это же время, авторизованным пользователям доступа к ней.\n",
    "\n"
   ]
  },
  {
   "cell_type": "markdown",
   "metadata": {},
   "source": [
    "# Шифр Цезаря\n",
    "\n",
    "Шифр Цезаря, также известный как шифр сдвига, код Цезаря или сдвиг Цезаря — один из самых простых и наиболее широко известных методов шифрования.\n",
    "\n",
    "Шифр Цезаря — это вид шифра подстановки, в котором каждый символ в открытом тексте заменяется символом, находящимся на некотором постоянном числе позиций левее или правее него в алфавите. Например, в шифре со сдвигом вправо на 3, А была бы заменена на Г, Б станет Д, и так далее.\n",
    "\n",
    "Шифр назван в честь римского полководца Гая Юлия Цезаря, использовавшего его для секретной переписки со своими генералами."
   ]
  },
  {
   "cell_type": "markdown",
   "metadata": {},
   "source": [
    "# Реализуйте функцию caesar(text, key), возвращающую зашифрованный текст, работающую только с латинским алфавитом.\n",
    "\n",
    "text - исходных текст, который надо зашифровать (или расшифровать)\n",
    "key - ключ (сдвиг)\n",
    "Ключ может быть отрицательным или больше 26\n",
    "\n",
    "Из преобразуемого текста удаляются все пробелы и знаки препинания. Зашифрованный текст пишется в верхнем регистре 1 строкой.\n",
    "\n"
   ]
  },
  {
   "cell_type": "code",
   "execution_count": 304,
   "metadata": {},
   "outputs": [],
   "source": [
    "import re\n",
    "\n",
    "def caesar(text, key):\n",
    "    reg = re.compile('[^a-zA-Z]')\n",
    "    text = reg.sub('', text)\n",
    "    text = text.upper()\n",
    "    ans = ''\n",
    "    for i in text:    \n",
    "        ans += chr((ord(i) + key - 65) % 26 + 65)\n",
    "    return ans"
   ]
  },
  {
   "cell_type": "code",
   "execution_count": 230,
   "metadata": {},
   "outputs": [],
   "source": [
    "def caesar(text, key):\n",
    "    return ''.join(chr(65 + (-65 + ord(i) + key) % 26) for i in text.upper() if i.isalpha())"
   ]
  },
  {
   "cell_type": "code",
   "execution_count": 305,
   "metadata": {
    "scrolled": true
   },
   "outputs": [
    {
     "name": "stdout",
     "output_type": "stream",
     "text": [
      "YDSHOFJEWHQFXOQSQUIQHSYFXUHQBIEADEMDQISQUIQHISYFXUHJXUIXYVJSYFXUHSQUIQHISETUEHSQUIQHIXYVJYIEDUEVJXUIYCFBUIJQDTCEIJMYTUBOADEMDUDSHOFJYEDJUSXDYGKUIYJYIQJOFUEVIKRIJYJKJYEDSYFXUHYDMXYSXUQSXBUJJUHYDJXUFBQYDJUNJYIHUFBQSUTROQBUJJUHIECUVYNUTDKCRUHEVFEIYJYEDITEMDJXUQBFXQRUJ\n"
     ]
    },
    {
     "data": {
      "text/plain": [
       "True"
      ]
     },
     "execution_count": 305,
     "metadata": {},
     "output_type": "execute_result"
    }
   ],
   "source": [
    "text = \"In cryptography, a Caesar cipher, also known as Caesar's cipher, the shift cipher, Caesar's code or Caesar shift, is one of the simplest and most widely known encryption techniques. It is a type of substitution cipher in which each letter in the plaintext is replaced by a letter some fixed number of positions down the alphabet.\"\n",
    "key = 42\n",
    "print(caesar(text, key))\n",
    "caesar(text, key) == 'YDSHOFJEWHQFXOQSQUIQHSYFXUHQBIEADEMDQISQUIQHISYFXUHJXUIXYVJSYFXUHSQUIQHISETUEHSQUIQHIXYVJYIEDUEVJXUIYCFBUIJQDTCEIJMYTUBOADEMDUDSHOFJYEDJUSXDYGKUIYJYIQJOFUEVIKRIJYJKJYEDSYFXUHYDMXYSXUQSXBUJJUHYDJXUFBQYDJUNJYIHUFBQSUTROQBUJJUHIECUVYNUTDKCRUHEVFEIYJYEDITEMDJXUQBFXQRUJ'"
   ]
  },
  {
   "cell_type": "markdown",
   "metadata": {},
   "source": [
    "# Реализуйте функцию caesar(text, key, alphabet = 'ABCDEFGHIJKLMNOPQRSTUVWXYZ'), расширяющую возможности функции с предыдущего шага.\n",
    "\n",
    "Ваша функция должна корректно работать с любым переданным алфавитом, а если алфавит не передан, то использовать английский."
   ]
  },
  {
   "cell_type": "code",
   "execution_count": 260,
   "metadata": {},
   "outputs": [],
   "source": [
    "def caesar(text, key, alphabet = 'ABCDEFGHIJKLMNOPQRSTUVWXYZ'):\n",
    "    ans = ''\n",
    "    for x in text.upper():\n",
    "        if x in alphabet:\n",
    "            ans += alphabet[(alphabet.find(x) + key) % len(alphabet)]\n",
    "    return ans"
   ]
  },
  {
   "cell_type": "code",
   "execution_count": 262,
   "metadata": {},
   "outputs": [],
   "source": [
    "def caesar(text, key, alphabet = 'ABCDEFGHIJKLMNOPQRSTUVWXYZ'):\n",
    "    return ''.join([alphabet[(alphabet.find(ch) + key) % len(alphabet)] for ch in text.upper() if ch.isalpha()])"
   ]
  },
  {
   "cell_type": "code",
   "execution_count": 263,
   "metadata": {},
   "outputs": [
    {
     "data": {
      "text/plain": [
       "'БТСФТТЛЙНУЁЛТУПНГЬКЕЁУ'"
      ]
     },
     "execution_count": 263,
     "metadata": {},
     "output_type": "execute_result"
    }
   ],
   "source": [
    "key = 1\n",
    "text = 'А с русским текстом выйдет?'\n",
    "alfabet = 'АБВГДЕЁЖЗИЙКЛМНОПРСТУФХЦЧШЩЪЫЬЭЮЯ'\n",
    "caesar(text, key, alfabet)"
   ]
  },
  {
   "cell_type": "markdown",
   "metadata": {},
   "source": [
    "# Реализуйте функцию bruteforce(text, alphabet = 'ABCDEFGHIJKLMNOPQRSTUVWXYZ'), которая выводит на печать все возможные \"расшифровки\" исходного текста.\n",
    "\n",
    "Если алфавит не передан на вход функции, то считается, что текст на английском (считаем, что определение алфавита производит оператор-человек)."
   ]
  },
  {
   "cell_type": "code",
   "execution_count": 258,
   "metadata": {},
   "outputs": [],
   "source": [
    "def bruteforce(text, alphabet = 'ABCDEFGHIJKLMNOPQRSTUVWXYZ'):\n",
    "    for i in range(1, len(alphabet)):\n",
    "        ans = ''\n",
    "        for x in text.upper():\n",
    "            if x in alphabet:\n",
    "                ans += alphabet[(alphabet.find(x) - i) % len(alphabet)]\n",
    "        print(ans)"
   ]
  },
  {
   "cell_type": "code",
   "execution_count": 265,
   "metadata": {},
   "outputs": [
    {
     "name": "stdout",
     "output_type": "stream",
     "text": [
      "РСБЛУЙЛФНРПНБУЁНБУЙЛЁЙРБКУПО\n",
      "ПРАКТИКУМПОМАТЕМАТИКЕИПАЙТОН\n",
      "ОПЯЙСЗЙТЛОНЛЯСДЛЯСЗЙДЗОЯИСНМ\n",
      "НОЮИРЖИСКНМКЮРГКЮРЖИГЖНЮЗРМЛ\n",
      "МНЭЗПЁЗРЙМЛЙЭПВЙЭПЁЗВЁМЭЖПЛК\n",
      "ЛМЬЖОЕЖПИЛКИЬОБИЬОЕЖБЕЛЬЁОКЙ\n",
      "КЛЫЁНДЁОЗКЙЗЫНАЗЫНДЁАДКЫЕНЙИ\n",
      "ЙКЪЕМГЕНЖЙИЖЪМЯЖЪМГЕЯГЙЪДМИЗ\n",
      "ИЙЩДЛВДМЁИЗЁЩЛЮЁЩЛВДЮВИЩГЛЗЖ\n",
      "ЗИШГКБГЛЕЗЖЕШКЭЕШКБГЭБЗШВКЖЁ\n",
      "ЖЗЧВЙАВКДЖЁДЧЙЬДЧЙАВЬАЖЧБЙЁЕ\n",
      "ЁЖЦБИЯБЙГЁЕГЦИЫГЦИЯБЫЯЁЦАИЕД\n",
      "ЕЁХАЗЮАИВЕДВХЗЪВХЗЮАЪЮЕХЯЗДГ\n",
      "ДЕФЯЖЭЯЗБДГБФЖЩБФЖЭЯЩЭДФЮЖГВ\n",
      "ГДУЮЁЬЮЖАГВАУЁШАУЁЬЮШЬГУЭЁВБ\n",
      "ВГТЭЕЫЭЁЯВБЯТЕЧЯТЕЫЭЧЫВТЬЕБА\n",
      "БВСЬДЪЬЕЮБАЮСДЦЮСДЪЬЦЪБСЫДАЯ\n",
      "АБРЫГЩЫДЭАЯЭРГХЭРГЩЫХЩАРЪГЯЮ\n",
      "ЯАПЪВШЪГЬЯЮЬПВФЬПВШЪФШЯПЩВЮЭ\n",
      "ЮЯОЩБЧЩВЫЮЭЫОБУЫОБЧЩУЧЮОШБЭЬ\n",
      "ЭЮНШАЦШБЪЭЬЪНАТЪНАЦШТЦЭНЧАЬЫ\n",
      "ЬЭМЧЯХЧАЩЬЫЩМЯСЩМЯХЧСХЬМЦЯЫЪ\n",
      "ЫЬЛЦЮФЦЯШЫЪШЛЮРШЛЮФЦРФЫЛХЮЪЩ\n",
      "ЪЫКХЭУХЮЧЪЩЧКЭПЧКЭУХПУЪКФЭЩШ\n",
      "ЩЪЙФЬТФЭЦЩШЦЙЬОЦЙЬТФОТЩЙУЬШЧ\n",
      "ШЩИУЫСУЬХШЧХИЫНХИЫСУНСШИТЫЧЦ\n",
      "ЧШЗТЪРТЫФЧЦФЗЪМФЗЪРТМРЧЗСЪЦХ\n",
      "ЦЧЖСЩПСЪУЦХУЖЩЛУЖЩПСЛПЦЖРЩХФ\n",
      "ХЦЁРШОРЩТХФТЁШКТЁШОРКОХЁПШФУ\n",
      "ФХЕПЧНПШСФУСЕЧЙСЕЧНПЙНФЕОЧУТ\n",
      "УФДОЦМОЧРУТРДЦИРДЦМОИМУДНЦТС\n",
      "ТУГНХЛНЦПТСПГХЗПГХЛНЗЛТГМХСР\n"
     ]
    }
   ],
   "source": [
    "text = 'СТВМФКМХОСРОВФЖОВФКМЖКСВЛФРП'\n",
    "alphabet = 'АБВГДЕЁЖЗИЙКЛМНОПРСТУФХЦЧШЩЪЫЬЭЮЯ'\n",
    "bruteforce(text, alphabet)"
   ]
  },
  {
   "cell_type": "markdown",
   "metadata": {},
   "source": [
    "# Судья Жаррикес сел за стол, взял лист бумаги, карандаш и сказал:\n",
    "   — Давайте возьмем фразу, все равно какую, ну хотя бы вот эту: «У судьи Жаррикеса проницательный ум». Теперь я напишу ее, оставляя пробелы между словами, вот так:\n",
    "   \n",
    "   У СУДЬИ ЖАРРИКЕСА ПРОНИЦАТЕЛЬНЫЙ УМ\n",
    "   \n",
    "   Написав, судья, считавший, по-видимому, это изречение непреложным, посмотрел Маноэлю в глаза и сказал:\n",
    "   — А теперь я возьму наудачу какое-нибудь число, чтобы сделать из этой фразы криптограмму. Предположим, что число состоит из трех цифр, например 4, 2 и 3. Я подписываю это число 423 под строчкой так, чтобы под каждой буквой стояла цифра, и повторяю число, пока не дойду до конца фразы. Вот что получится:\n",
    "   \n",
    "   У СУДЬИ ЖАРРИКЕСА ПРОНИЦАТЕЛЬНЫЙ УМ\n",
    "   \n",
    "   4 23423 423423423 42342342342342 34\n",
    "   \n",
    "   Затем, молодой человек, возьмем азбуку и будем заменять каждую букву нашей фразы той буквой, которая стоит после нее в алфавитном порядке на месте, указанном цифрой. Например, если под буквой А стоит цифра 3, вы отсчитываете три буквы и заменяете ее буквой Г. Итак, вот что мы получим:\n",
    "   \n",
    "   У — 4 = Ч\n",
    "   \n",
    "   С — 2 = У\n",
    "   \n",
    "   У — 3 = Ц\n",
    "   \n",
    "   Д — 4 = И\n",
    "   \n",
    "   Ь — 2 = Ю\n",
    "   \n",
    "   И — 3 = Л\n",
    "   \n",
    "   Если буква находится в конце алфавита и к ней нельзя прибавить нужного числа букв, тогда отсчитывают недостающие буквы с начала азбуки. Например, буква Я в алфавите последняя. Если под ней стоит цифра 3, то счет начинают с буквы А, и тогда Я заменяется буквой В.\n",
    "   \n",
    "   Доведем до конца начатую криптограмму, построенную на числе 423 — взятом произвольно, не забудьте! — и фраза, которую вы знаете, заменится следующей:\n",
    "   \n",
    "   ЧУЦИЮЛКВУФКНЙУГУТССКЩДФИПЮРЯЛЦР\n",
    "   \n",
    "   Теперь, молодой человек, хорошенько рассмотрите эту фразу. Разве она не выглядит точь-в-точь как те, что вы видели в документе? Что же из этого следует? Что значение каждой буквы определяется случайно поставленной под нею цифрой, и буква в криптограмме никогда не обозначает одной и той же буквы текста. Взгляните: в нашей фразе первое У обозначено буквой Ч, а второе буквой Ц; первое И обозначено буквой Л, а второе — К; первое А обозначено буквой В, второе — Ч, а третье — Ц. В моем имени одно Р заменено буквой У, а другое — Ф. Теперь вам ясно, что если бы вы не знали числа 423, вам никогда не удалось бы прочесть этой строчки, и, следовательно, если мы не знаем числа, на котором основан документ, мы никогда не сможем его расшифровать!"
   ]
  },
  {
   "cell_type": "markdown",
   "metadata": {},
   "source": [
    "# Реализуйте функцию jarriquez_encryption(text, key, alphabet='ABCDEFGHIJKLMNOPQRSTUVWXYZ', reverse=False), возвращающую зашифрованный текст, по алгоритму описанному выше.\n",
    "\n",
    "* text - исходный текст\n",
    "* key - ключ шифрования (число)\n",
    "* alphabet - алфавит (по умолчанию английский)\n",
    "* reverse - признак расшифровки, если находится в значении True, это значит, что функцию надо использовать для расшифровки текста, т.к. каждый сдвиг должен быть отрицательным. (по умолчанию False)\n",
    "\n",
    "Из преобразуемого текста удаляются все пробелы и знаки препинания. Зашифрованный текст пишется в верхнем регистре 1 строкой."
   ]
  },
  {
   "cell_type": "code",
   "execution_count": 338,
   "metadata": {},
   "outputs": [],
   "source": [
    "def jarriquez_encryption(text, key, alphabet='ABCDEFGHIJKLMNOPQRSTUVWXYZ', reverse=False):\n",
    "    text = text.upper()\n",
    "    key = str(key)\n",
    "    ans = ''\n",
    "    k = 0\n",
    "    for i in range(len(text)):\n",
    "        if reverse:\n",
    "            if text[i] in alphabet:\n",
    "                ans += alphabet[(alphabet.find(text[i]) - int(key[k % len(key)])) % len(alphabet)]\n",
    "                k += 1\n",
    "        else:\n",
    "            if text[i] in alphabet:\n",
    "                ans += alphabet[(alphabet.find(text[i]) + int(key[k % len(key)])) % len(alphabet)]\n",
    "                k += 1\n",
    "    return ans"
   ]
  },
  {
   "cell_type": "code",
   "execution_count": 348,
   "metadata": {},
   "outputs": [
    {
     "data": {
      "text/plain": [
       "'УСУДЬИЖАРРИКЕСАПРОНИЦАТЕЛЬНЫЙУМ'"
      ]
     },
     "execution_count": 348,
     "metadata": {},
     "output_type": "execute_result"
    }
   ],
   "source": [
    "text = 'ЧУЦИЮЛКВУФКНЙУГУТССКЩДФИПЮРЯЛЦР'\n",
    "key = 423\n",
    "alphabet = 'АБВГДЕЖЗИЙКЛМНОПРСТУФХЦЧШЩЪЫЬЭЮЯ'\n",
    "reverse = True\n",
    "jarriquez_encryption(text, key, alphabet, reverse)"
   ]
  },
  {
   "cell_type": "markdown",
   "metadata": {},
   "source": [
    "ЧУЦИЮЛКВУФКНЙУГУТССКЩДФИПЮРЯЛЦР"
   ]
  },
  {
   "cell_type": "markdown",
   "metadata": {},
   "source": [
    "# Постарайтесь расшифровать текст, сделав несколько предположений:\n",
    "\n",
    "* Текст зашифрован шифром Вижинера (вы его реализовали в предыдущей задаче)\n",
    "* Ключ вряд ли представляет из себя 2-3 значное число (это было бы слишком легко), но из соображений гуманности можно не проверять числа более 6 знаков длиной\n",
    "* В шифрованном тесте есть все символы алфавита (т.е. словарь можно составить с помощью текста шифровки)\n",
    "* Расшифрованный текст содержит ряд ключевых слов из произведения (почти наверняка там есть слово \"алмаз\" или фамилия обвиняемого - \"Дакоста\")."
   ]
  },
  {
   "cell_type": "code",
   "execution_count": 351,
   "metadata": {},
   "outputs": [],
   "source": [
    "import time"
   ]
  },
  {
   "cell_type": "code",
   "execution_count": 363,
   "metadata": {},
   "outputs": [
    {
     "name": "stdout",
     "output_type": "stream",
     "text": [
      "261086\n",
      "РЕАЛЬНЫЙОТВЕТСТВЕННЫЙЗАПРЕСТУПЛЕНИЕНААЛМАЗНОМПРИИСКЕИЗРОМАНАЖЮЛЯВЕРНАЖАНГАДАНЕБУДЕТНАЗВАНВЭТОЙШИФРОВКЕЯОСТАВЛЮЗДЕСЬИМЯЖОАМДАКОСТАЛИШЬСЕДИНСТВЕННОЙЦЕЛЬЮЧТОБЫВЫМОГЛИРАСШИФРОВАТЬМОПОСЛАНИЕТАКЖЕЯДЕЛАЮЕГОДОСТАТОЧНОБОЛЬШОЙДЛИНЫЧТОБЫДАЖЕПОСЛЕШИФРОВАНИЯМОЖНОБЫЛОВОССТАНОВИТЬИСХОДНЫХАЛФАВИТАВТОРДАННОГОЗАДАНИЯИВАШДРУГЗАДОЙНЫЙАЛЕКСЕЙ\n",
      "--- 46.23311710357666 seconds ---\n"
     ]
    }
   ],
   "source": [
    "text = 'ТЛБЛДУЭППТКЛФЧУВНУПБКЗИХТЛТТЫХНЛОИНУВЖММИНПФНПШОКЧЛЕРНТФНАХЖИДМЯКЛТУБЖИУЕЖЕАХЛГЩЕЕЪУВНГАХИЯШПЙАОЦЦПВТЛБФТТИИНДИДНЧЮОНЯОФВТЕАТФУШБЛРЮЮЧЖДРУУШГЕХУРПЧЕУВАЭУОЙБДБНОЛСКЦБСАОЦЦПВИШЮТППЦЧНЖОИНШВРЗЕЗКЗСБЮНЙРКПСЪЖФФШНЦЗРСЭШЦПЖСЙНГЭФФВЫМЖИЛРОЩСЗЮЙФШФДЖОИЗТРМООЙБНФГОЩЧФЖООКОФВЙСЭФЖУЬХИСЦЖГИЪЖДШПРМЖПУПГЦНВКБНРЕКИБШМЦХЙИАМФЛУЬЙИСЗРТЕС'\n",
    "alphabet = ''.join(sorted(set(text)))\n",
    "reverse = True\n",
    "start_time = time.time()\n",
    "for i in range(1000, 999999):\n",
    "    ans = jarriquez_encryption(text, i, alphabet, reverse)\n",
    "    if 'ДАКОСТ' in ans:\n",
    "        print(i)\n",
    "        print(ans)\n",
    "        break\n",
    "print(\"--- %s seconds ---\" % (time.time() - start_time))"
   ]
  },
  {
   "cell_type": "code",
   "execution_count": null,
   "metadata": {},
   "outputs": [],
   "source": []
  },
  {
   "cell_type": "code",
   "execution_count": null,
   "metadata": {},
   "outputs": [],
   "source": []
  },
  {
   "cell_type": "code",
   "execution_count": null,
   "metadata": {},
   "outputs": [],
   "source": []
  },
  {
   "cell_type": "code",
   "execution_count": null,
   "metadata": {},
   "outputs": [],
   "source": []
  },
  {
   "cell_type": "code",
   "execution_count": null,
   "metadata": {},
   "outputs": [],
   "source": []
  }
 ],
 "metadata": {
  "kernelspec": {
   "display_name": "Python 3",
   "language": "python",
   "name": "python3"
  },
  "language_info": {
   "codemirror_mode": {
    "name": "ipython",
    "version": 3
   },
   "file_extension": ".py",
   "mimetype": "text/x-python",
   "name": "python",
   "nbconvert_exporter": "python",
   "pygments_lexer": "ipython3",
   "version": "3.9.0"
  }
 },
 "nbformat": 4,
 "nbformat_minor": 4
}
