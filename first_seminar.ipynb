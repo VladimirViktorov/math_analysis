{
 "cells": [
  {
   "cell_type": "markdown",
   "metadata": {},
   "source": [
    "# Предел функции"
   ]
  },
  {
   "cell_type": "code",
   "execution_count": 2,
   "metadata": {},
   "outputs": [],
   "source": [
    "from math import exp"
   ]
  },
  {
   "cell_type": "code",
   "execution_count": 5,
   "metadata": {},
   "outputs": [],
   "source": [
    "def f(x):\n",
    "    return (exp(x) - 1) / x"
   ]
  },
  {
   "cell_type": "code",
   "execution_count": 6,
   "metadata": {},
   "outputs": [
    {
     "name": "stdout",
     "output_type": "stream",
     "text": [
      "1.718281828459045\n",
      "1.0517091807564771\n",
      "1.005016708416795\n",
      "1.0005001667083846\n",
      "1.000050001667141\n",
      "1.000005000006965\n"
     ]
    }
   ],
   "source": [
    "x0 = 0\n",
    "dx_list = [1, 0.1, 0.01, 0.001, 0.0001, 0.00001]\n",
    "for dx in dx_list:\n",
    "    print(f(x0 + dx))"
   ]
  },
  {
   "cell_type": "code",
   "execution_count": 7,
   "metadata": {},
   "outputs": [
    {
     "name": "stdout",
     "output_type": "stream",
     "text": [
      "0.6321205588285577\n",
      "0.9516258196404048\n",
      "0.9950166250831893\n",
      "0.9995001666249781\n",
      "0.9999500016666385\n",
      "0.9999950000172396\n"
     ]
    }
   ],
   "source": [
    "for dx in dx_list:\n",
    "    print(f(x0 - dx))"
   ]
  },
  {
   "cell_type": "markdown",
   "metadata": {},
   "source": [
    "# Производная"
   ]
  },
  {
   "cell_type": "code",
   "execution_count": 8,
   "metadata": {},
   "outputs": [],
   "source": [
    "def f(x):\n",
    "    return x**2"
   ]
  },
  {
   "cell_type": "code",
   "execution_count": 10,
   "metadata": {},
   "outputs": [
    {
     "name": "stdout",
     "output_type": "stream",
     "text": [
      "7.0\n",
      "6.100000000000012\n",
      "6.009999999999849\n",
      "6.000999999999479\n",
      "6.000100000012054\n",
      "6.000009999951316\n"
     ]
    }
   ],
   "source": [
    "x0 = 3\n",
    "dx_list = [1, 0.1, 0.01, 0.001, 0.0001, 0.00001]\n",
    "for dx in dx_list:\n",
    "    print((f(x0 + dx) - f(x0)) / dx)"
   ]
  },
  {
   "cell_type": "markdown",
   "metadata": {},
   "source": [
    "# Геометрический смысл производной"
   ]
  },
  {
   "cell_type": "code",
   "execution_count": 11,
   "metadata": {},
   "outputs": [],
   "source": [
    "def g(x):\n",
    "    return a * x + b"
   ]
  },
  {
   "cell_type": "code",
   "execution_count": 13,
   "metadata": {},
   "outputs": [
    {
     "data": {
      "text/plain": [
       "2.0000009999243673"
      ]
     },
     "execution_count": 13,
     "metadata": {},
     "output_type": "execute_result"
    }
   ],
   "source": [
    "x0 = 1\n",
    "dx = 0.000001\n",
    "\n",
    "a = (f(x0 + dx) - f(x0)) / dx\n",
    "a"
   ]
  },
  {
   "cell_type": "code",
   "execution_count": 15,
   "metadata": {},
   "outputs": [
    {
     "data": {
      "text/plain": [
       "-1.0000009999243673"
      ]
     },
     "execution_count": 15,
     "metadata": {},
     "output_type": "execute_result"
    }
   ],
   "source": [
    "b = f(x0) - a * x0\n",
    "b"
   ]
  },
  {
   "cell_type": "code",
   "execution_count": 18,
   "metadata": {},
   "outputs": [
    {
     "data": {
      "text/plain": [
       "[<matplotlib.lines.Line2D at 0x7fb2ca261a30>]"
      ]
     },
     "execution_count": 18,
     "metadata": {},
     "output_type": "execute_result"
    },
    {
     "data": {
      "image/png": "[encoded data removed]",
      "text/plain": [
       "<Figure size 432x288 with 1 Axes>"
      ]
     },
     "metadata": {
      "needs_background": "light"
     },
     "output_type": "display_data"
    }
   ],
   "source": [
    "import numpy as np\n",
    "import matplotlib.pyplot as plt\n",
    "\n",
    "x = np.arange(-1, 2, 0.01)\n",
    "\n",
    "plt.plot(x, f(x))\n",
    "plt.plot(x, g(x))"
   ]
  },
  {
   "cell_type": "markdown",
   "metadata": {},
   "source": [
    "# Меняем местами переменные"
   ]
  },
  {
   "cell_type": "code",
   "execution_count": 2,
   "metadata": {},
   "outputs": [],
   "source": [
    "a = 5\n",
    "b = 10"
   ]
  },
  {
   "cell_type": "code",
   "execution_count": 3,
   "metadata": {},
   "outputs": [
    {
     "data": {
      "text/plain": [
       "(10, 5)"
      ]
     },
     "execution_count": 3,
     "metadata": {},
     "output_type": "execute_result"
    }
   ],
   "source": [
    "temp = a \n",
    "a = b\n",
    "b = temp\n",
    "a, b"
   ]
  },
  {
   "cell_type": "code",
   "execution_count": 4,
   "metadata": {},
   "outputs": [
    {
     "data": {
      "text/plain": [
       "(5, 10)"
      ]
     },
     "execution_count": 4,
     "metadata": {},
     "output_type": "execute_result"
    }
   ],
   "source": [
    "a = a + b\n",
    "b = a - b\n",
    "a = a - b\n",
    "a, b"
   ]
  },
  {
   "cell_type": "code",
   "execution_count": 7,
   "metadata": {},
   "outputs": [
    {
     "data": {
      "text/plain": [
       "(10, 5)"
      ]
     },
     "execution_count": 7,
     "metadata": {},
     "output_type": "execute_result"
    }
   ],
   "source": [
    "a, b = b, a\n",
    "a , b"
   ]
  },
  {
   "cell_type": "code",
   "execution_count": 8,
   "metadata": {},
   "outputs": [
    {
     "data": {
      "text/plain": [
       "(5, 10)"
      ]
     },
     "execution_count": 8,
     "metadata": {},
     "output_type": "execute_result"
    }
   ],
   "source": [
    "(a, b) = (b, a)\n",
    "a, b"
   ]
  },
  {
   "cell_type": "markdown",
   "metadata": {},
   "source": [
    "# Максимальное значение из списка"
   ]
  },
  {
   "cell_type": "code",
   "execution_count": 12,
   "metadata": {},
   "outputs": [],
   "source": [
    "l = [10, 5, 7, 8, -6, 172, 3]"
   ]
  },
  {
   "cell_type": "code",
   "execution_count": 13,
   "metadata": {},
   "outputs": [
    {
     "name": "stdout",
     "output_type": "stream",
     "text": [
      "172\n"
     ]
    }
   ],
   "source": [
    "cur_max = l[0]\n",
    "for elm in l:\n",
    "    if elm > cur_max:\n",
    "        cur_max = elm\n",
    "print(cur_max)"
   ]
  },
  {
   "cell_type": "code",
   "execution_count": 14,
   "metadata": {},
   "outputs": [
    {
     "data": {
      "text/plain": [
       "172"
      ]
     },
     "execution_count": 14,
     "metadata": {},
     "output_type": "execute_result"
    }
   ],
   "source": [
    "max(l)"
   ]
  },
  {
   "cell_type": "markdown",
   "metadata": {},
   "source": [
    "# key"
   ]
  },
  {
   "cell_type": "code",
   "execution_count": 18,
   "metadata": {},
   "outputs": [],
   "source": [
    "s = ['qee', 'werwer', 'asd', 'sd', 'qwe', 'z']"
   ]
  },
  {
   "cell_type": "code",
   "execution_count": 19,
   "metadata": {},
   "outputs": [
    {
     "data": {
      "text/plain": [
       "'z'"
      ]
     },
     "execution_count": 19,
     "metadata": {},
     "output_type": "execute_result"
    }
   ],
   "source": [
    "max(s)"
   ]
  },
  {
   "cell_type": "code",
   "execution_count": 20,
   "metadata": {},
   "outputs": [
    {
     "data": {
      "text/plain": [
       "'werwer'"
      ]
     },
     "execution_count": 20,
     "metadata": {},
     "output_type": "execute_result"
    }
   ],
   "source": [
    "max(s, key = len)"
   ]
  },
  {
   "cell_type": "markdown",
   "metadata": {},
   "source": [
    "# Сортировка"
   ]
  },
  {
   "cell_type": "code",
   "execution_count": 22,
   "metadata": {},
   "outputs": [
    {
     "data": {
      "text/plain": [
       "['asd', 'qee', 'qwe', 'sd', 'werwer', 'z']"
      ]
     },
     "execution_count": 22,
     "metadata": {},
     "output_type": "execute_result"
    }
   ],
   "source": [
    "sorted(s)"
   ]
  },
  {
   "cell_type": "code",
   "execution_count": 23,
   "metadata": {},
   "outputs": [
    {
     "data": {
      "text/plain": [
       "['z', 'sd', 'qee', 'asd', 'qwe', 'werwer']"
      ]
     },
     "execution_count": 23,
     "metadata": {},
     "output_type": "execute_result"
    }
   ],
   "source": [
    "sorted(s, key = len)"
   ]
  },
  {
   "cell_type": "markdown",
   "metadata": {},
   "source": [
    "# Поиск строк с одинаковыми первым и последним символами"
   ]
  },
  {
   "cell_type": "code",
   "execution_count": 24,
   "metadata": {},
   "outputs": [],
   "source": [
    "words = ['a', 'aa', 'aaa', 'anaconda', 'import', 'cat']"
   ]
  },
  {
   "cell_type": "code",
   "execution_count": 25,
   "metadata": {},
   "outputs": [],
   "source": [
    "def math_ends(L):\n",
    "    counter = 0\n",
    "    for word in L:\n",
    "        if (len(word) > 1) and (word[0] == word[-1]):\n",
    "            counter += 1\n",
    "    return counter"
   ]
  },
  {
   "cell_type": "code",
   "execution_count": 27,
   "metadata": {},
   "outputs": [
    {
     "data": {
      "text/plain": [
       "3"
      ]
     },
     "execution_count": 27,
     "metadata": {},
     "output_type": "execute_result"
    }
   ],
   "source": [
    "math_ends(words)"
   ]
  },
  {
   "cell_type": "markdown",
   "metadata": {},
   "source": [
    "# Сортировка списка строк, сперва строки на \"х\""
   ]
  },
  {
   "cell_type": "code",
   "execution_count": 28,
   "metadata": {},
   "outputs": [],
   "source": [
    "words = ['mix', 'extra', 'x-files', 'xyz', 'xapple', 'apple']"
   ]
  },
  {
   "cell_type": "markdown",
   "metadata": {},
   "source": [
    "#### 1 шаг: получение в цикле for списка строка на \"х\""
   ]
  },
  {
   "cell_type": "code",
   "execution_count": 29,
   "metadata": {},
   "outputs": [
    {
     "data": {
      "text/plain": [
       "['x-files', 'xyz', 'xapple']"
      ]
     },
     "execution_count": 29,
     "metadata": {},
     "output_type": "execute_result"
    }
   ],
   "source": [
    "x_first = []\n",
    "for word in words:\n",
    "    if word[0] == 'x':\n",
    "        x_first.append(word)\n",
    "\n",
    "x_first"
   ]
  },
  {
   "cell_type": "markdown",
   "metadata": {},
   "source": [
    "#### 2 шаг: превращаем цикл for в list comprehension"
   ]
  },
  {
   "cell_type": "code",
   "execution_count": 30,
   "metadata": {},
   "outputs": [
    {
     "data": {
      "text/plain": [
       "['x-files', 'xyz', 'xapple']"
      ]
     },
     "execution_count": 30,
     "metadata": {},
     "output_type": "execute_result"
    }
   ],
   "source": [
    "x_first = [word for word in words if word[0] == 'x']\n",
    "x_first"
   ]
  },
  {
   "cell_type": "markdown",
   "metadata": {},
   "source": [
    "#### 3 шаг: сборка функции, объединение списков"
   ]
  },
  {
   "cell_type": "code",
   "execution_count": 31,
   "metadata": {},
   "outputs": [],
   "source": [
    "def front_x(words):\n",
    "    x_first = [word for word in words if word[0] == 'x']\n",
    "    not_x_first = [word for word in words if word[0] != 'x']\n",
    "    return sorted(x_first) + sorted(not_x_first)"
   ]
  },
  {
   "cell_type": "code",
   "execution_count": 32,
   "metadata": {},
   "outputs": [
    {
     "data": {
      "text/plain": [
       "['x-files', 'xapple', 'xyz', 'apple', 'extra', 'mix']"
      ]
     },
     "execution_count": 32,
     "metadata": {},
     "output_type": "execute_result"
    }
   ],
   "source": [
    "front_x(words)"
   ]
  },
  {
   "cell_type": "markdown",
   "metadata": {},
   "source": [
    "# Сортировка по последнему элементу"
   ]
  },
  {
   "cell_type": "code",
   "execution_count": 33,
   "metadata": {},
   "outputs": [],
   "source": [
    "tuples = [(1, 7), (2, 1), (1, 3), (3, 4, 5)]"
   ]
  },
  {
   "cell_type": "code",
   "execution_count": 34,
   "metadata": {},
   "outputs": [
    {
     "data": {
      "text/plain": [
       "[(1, 3), (1, 7), (2, 1), (3, 4, 5)]"
      ]
     },
     "execution_count": 34,
     "metadata": {},
     "output_type": "execute_result"
    }
   ],
   "source": [
    "sorted(tuples)"
   ]
  },
  {
   "cell_type": "markdown",
   "metadata": {},
   "source": [
    "#### 1 шаг: Пишем собственную функцию для использования в параметре key"
   ]
  },
  {
   "cell_type": "code",
   "execution_count": 35,
   "metadata": {},
   "outputs": [],
   "source": [
    "def last(elem):\n",
    "    return elem[-1]"
   ]
  },
  {
   "cell_type": "code",
   "execution_count": 36,
   "metadata": {},
   "outputs": [
    {
     "data": {
      "text/plain": [
       "[(2, 1), (1, 3), (3, 4, 5), (1, 7)]"
      ]
     },
     "execution_count": 36,
     "metadata": {},
     "output_type": "execute_result"
    }
   ],
   "source": [
    "sorted(tuples, key = last)"
   ]
  },
  {
   "cell_type": "code",
   "execution_count": 37,
   "metadata": {},
   "outputs": [
    {
     "data": {
      "text/plain": [
       "[(2, 1), (1, 3), (3, 4, 5), (1, 7)]"
      ]
     },
     "execution_count": 37,
     "metadata": {},
     "output_type": "execute_result"
    }
   ],
   "source": [
    "sorted(tuples, key = lambda elem: elem[-1])"
   ]
  },
  {
   "cell_type": "markdown",
   "metadata": {},
   "source": [
    "# 1. Предел функции\n",
    "Реализуйте функцию f(x):\n",
    "    f(x)=2arctg(x) \n",
    "\n",
    "Найдите предел функции (ответ округлите до 3 знака после запятой) при x→+∞"
   ]
  },
  {
   "cell_type": "code",
   "execution_count": 44,
   "metadata": {},
   "outputs": [
    {
     "name": "stdout",
     "output_type": "stream",
     "text": [
      "3.142\n"
     ]
    }
   ],
   "source": [
    "from math import atan\n",
    "\n",
    "def f(x):\n",
    "    return 2 * atan(x)\n",
    "\n",
    "lim = round(f(float('inf')), 3)\n",
    "print(lim)"
   ]
  },
  {
   "cell_type": "markdown",
   "metadata": {},
   "source": [
    "# 2. Производная\n",
    "Проверьте (для нескольких разных точек), что производная от e^x совпадает с исходной функцией, т.е. (e^x)′ = e^x\n",
    "\n",
    "Для этого реализуйте функцию def_e(x), находящую численное значение производной (с точностью до 3 знака) в точке x.\n",
    "\n"
   ]
  },
  {
   "cell_type": "code",
   "execution_count": 54,
   "metadata": {},
   "outputs": [],
   "source": [
    "from math import exp\n",
    "\n",
    "def f(x):\n",
    "    return exp(x)\n",
    "\n",
    "def def_e(x):\n",
    "    dx = 0.000000001\n",
    "    return round(((f(x + dx) - f(x)) / dx), 3)"
   ]
  },
  {
   "cell_type": "code",
   "execution_count": 55,
   "metadata": {},
   "outputs": [
    {
     "data": {
      "text/plain": [
       "20.086"
      ]
     },
     "execution_count": 55,
     "metadata": {},
     "output_type": "execute_result"
    }
   ],
   "source": [
    "x = 3\n",
    "def_e(x)"
   ]
  },
  {
   "cell_type": "markdown",
   "metadata": {},
   "source": [
    "# 3. Список - чётные индексы\n",
    "Напишите функцию even_indeces(L), которая будет возвращать только элементы с чётными индексами.\n"
   ]
  },
  {
   "cell_type": "code",
   "execution_count": 72,
   "metadata": {},
   "outputs": [],
   "source": [
    "def even_indeces(L):\n",
    "    return [L[i] for i in range(0, len(L), 2)]"
   ]
  },
  {
   "cell_type": "code",
   "execution_count": 74,
   "metadata": {},
   "outputs": [],
   "source": [
    "def even_indeces(l):\n",
    "    return l[::2]"
   ]
  },
  {
   "cell_type": "code",
   "execution_count": 75,
   "metadata": {},
   "outputs": [
    {
     "name": "stdout",
     "output_type": "stream",
     "text": [
      "[1, 2, 5, 13, 34]\n"
     ]
    }
   ],
   "source": [
    "L = [1, 1, 2, 3, 5, 8, 13, 21, 34]\n",
    "L = even_indeces(L)\n",
    "print(L)"
   ]
  },
  {
   "cell_type": "markdown",
   "metadata": {},
   "source": [
    "# 4. Список - чётные элементы\n",
    "Напишите функцию even_elements(l), которая возвращает только чётные элементы списка."
   ]
  },
  {
   "cell_type": "code",
   "execution_count": 87,
   "metadata": {},
   "outputs": [],
   "source": [
    "def even_elements(l):\n",
    "    new_l = []\n",
    "    for elem in l:\n",
    "        if elem % 2 == 0:\n",
    "            new_l.append(elem)\n",
    "    return new_l"
   ]
  },
  {
   "cell_type": "code",
   "execution_count": 94,
   "metadata": {},
   "outputs": [],
   "source": [
    "def even_elements(l):\n",
    "    return [elem for elem in l if elem % 2 == 0]"
   ]
  },
  {
   "cell_type": "code",
   "execution_count": 95,
   "metadata": {
    "scrolled": true
   },
   "outputs": [
    {
     "name": "stdout",
     "output_type": "stream",
     "text": [
      "[2, 8, 34]\n"
     ]
    }
   ],
   "source": [
    "l = [1, 1, 2, 3, 5, 8, 13, 21, 34]\n",
    "print(even_elements(l))"
   ]
  },
  {
   "cell_type": "markdown",
   "metadata": {},
   "source": [
    "# 5. Список - обратный порядок\n",
    "Напишите функцию last_to_first(l), которая вернёт список в обратном порядке.\n"
   ]
  },
  {
   "cell_type": "code",
   "execution_count": 96,
   "metadata": {},
   "outputs": [],
   "source": [
    "def last_to_first(l):\n",
    "    return l[::-1]"
   ]
  },
  {
   "cell_type": "code",
   "execution_count": 97,
   "metadata": {},
   "outputs": [
    {
     "name": "stdout",
     "output_type": "stream",
     "text": [
      "[34, 21, 13, 8, 5, 3, 2, 1, 1]\n"
     ]
    }
   ],
   "source": [
    "l = [1, 1, 2, 3, 5, 8, 13, 21, 34]\n",
    "print(last_to_first(l)) "
   ]
  },
  {
   "cell_type": "markdown",
   "metadata": {},
   "source": [
    "# 6. Сумма чисел\n",
    "\n",
    "Считайте строку (используйте input()), содержащую 1 натуральное число n\n",
    "\n",
    "Найдите сумму всех чисел от 0 до n, которые делятся на 5, но не делятся на 3"
   ]
  },
  {
   "cell_type": "code",
   "execution_count": 1,
   "metadata": {},
   "outputs": [
    {
     "name": "stdout",
     "output_type": "stream",
     "text": [
      "100\n",
      "735\n"
     ]
    }
   ],
   "source": [
    "n = int(input())\n",
    "ans = 0\n",
    "for i in range(n + 1):\n",
    "    if i % 5 == 0 and i % 3 != 0:\n",
    "        ans += i\n",
    "print(ans)"
   ]
  },
  {
   "cell_type": "code",
   "execution_count": 5,
   "metadata": {},
   "outputs": [
    {
     "name": "stdout",
     "output_type": "stream",
     "text": [
      "100\n",
      "735\n"
     ]
    }
   ],
   "source": [
    "n = int(input())\n",
    "print(sum([i for i in range(n + 1) if (i % 5 == 0 and i % 3 != 0)]))"
   ]
  },
  {
   "cell_type": "code",
   "execution_count": 6,
   "metadata": {},
   "outputs": [
    {
     "name": "stdout",
     "output_type": "stream",
     "text": [
      "100\n",
      "735\n"
     ]
    }
   ],
   "source": [
    "print(sum(i for i in range(0, int(input()) + 1, 5) if i % 3))"
   ]
  },
  {
   "cell_type": "markdown",
   "metadata": {},
   "source": [
    "# 7. Список общих элементов\n",
    "\n",
    "Напишите функцию common(list_a, list_b), возвращающую список общих элементов 2 списков (порядок не важен). "
   ]
  },
  {
   "cell_type": "code",
   "execution_count": 13,
   "metadata": {},
   "outputs": [],
   "source": [
    "def common(list_a, list_b):\n",
    "    list_a = list(set(list_a))\n",
    "    list_b = list(set(list_b))\n",
    "    ans = []\n",
    "    for elem in list_a:\n",
    "        if elem in list_b:\n",
    "            ans.append(elem)\n",
    "    return(ans)"
   ]
  },
  {
   "cell_type": "code",
   "execution_count": 15,
   "metadata": {},
   "outputs": [],
   "source": [
    "def common(list_a, list_b):\n",
    "    list_a = list(set(list_a))\n",
    "    list_b = list(set(list_b))\n",
    "    return [elem for elem in list_a if elem in list_b]"
   ]
  },
  {
   "cell_type": "code",
   "execution_count": 21,
   "metadata": {},
   "outputs": [],
   "source": [
    "def common(list_a, list_b):\n",
    "    return list(set(list_a) & set(list_b))"
   ]
  },
  {
   "cell_type": "code",
   "execution_count": 22,
   "metadata": {},
   "outputs": [
    {
     "name": "stdout",
     "output_type": "stream",
     "text": [
      "[0, 42, 19]\n"
     ]
    }
   ],
   "source": [
    "list_a = [0, 2, 3, 4, 5, 19, 42]\n",
    "list_b = [0, 6, 19, 33, 42, 55, 66, 77, 99, 101, 256]\n",
    "print(common(list_a, list_b))"
   ]
  },
  {
   "cell_type": "markdown",
   "metadata": {},
   "source": [
    "# 8. front_x (с пустыми строками)\n",
    "\n",
    "Напишите функцию front_x(words), которая на вход принимает список строк и возвращает отсортированный по правилам:\n",
    "\n",
    "слова, начинающиеся с символа \"x\", идут первыми\n",
    "в лексикографическом порядке.\n",
    "\n",
    "**Важно!** Список может содержать пустые строки - \"\" - их нельзя выкидывать и при их обработке функция не должна \"падать\"."
   ]
  },
  {
   "cell_type": "code",
   "execution_count": 36,
   "metadata": {},
   "outputs": [],
   "source": [
    "def front_x(words):\n",
    "    s = [word for word in words if word == '']\n",
    "    words = [word for word in words if word != '']\n",
    "    x_first = [word for word in words if word[0] == 'x']\n",
    "    not_x_first = [word for word in words if word[0] != 'x']\n",
    "    return sorted(x_first) + s + sorted(not_x_first)"
   ]
  },
  {
   "cell_type": "markdown",
   "metadata": {},
   "source": [
    "Если указана функция key, список сортируется не по значениям элементов, а по результатам вызовов key для каждого элемента\n",
    "\n",
    "Именно по этим значениям (кортежам из булева типа и строки) сортируется список. \n",
    "\n",
    "Кортежи сравниваются поэлементно\n",
    "\n",
    "False меньше True, и вторые элементы кортежей можно уже не сравнивать. Так же для остальных элементов, которые начинаются с \"x\", у них первым элементом кортежа будет стоять False, значит они будут стоять гарантированно раньше всех элементов без \"x\" в начале.\n",
    "\n",
    "Если же оба элемента начинаются на \"x\" (либо оба не начинаются), сравнение по первым элементам дает равенство, поэтому сравнение переходит ко вторым элементам - т.е. непосредственно строкам. Логично что они сравниваются в лексикографическом порядке.\n",
    "\n",
    "Ну и отдельно стоит сказать про x[:1] == 'x'. Если строка пустая то x[0] выдаст ошибку, а x[:1] просто выдаст пустую строку"
   ]
  },
  {
   "cell_type": "code",
   "execution_count": 40,
   "metadata": {},
   "outputs": [],
   "source": [
    "def front_x(words):\n",
    "    return sorted(words, key = lambda x: (x[:1] != 'x', x))"
   ]
  },
  {
   "cell_type": "code",
   "execution_count": 39,
   "metadata": {
    "scrolled": true
   },
   "outputs": [
    {
     "name": "stdout",
     "output_type": "stream",
     "text": [
      "['x-files', 'xapple', 'xyz', '', 'apple', 'extra', 'mix']\n"
     ]
    }
   ],
   "source": [
    "words = ['mix', 'extra', '', 'x-files', 'xyz', 'xapple', 'apple']\n",
    "print(front_x(words))"
   ]
  },
  {
   "cell_type": "markdown",
   "metadata": {},
   "source": [
    "# 9. Числа Фибоначчи\n",
    "\n",
    "Напишите функцию fib(n), возвращающую n-е число Фибоначчи."
   ]
  },
  {
   "cell_type": "code",
   "execution_count": 42,
   "metadata": {},
   "outputs": [],
   "source": [
    "fib = lambda x : 1 if x <= 2 else fib(x - 1) + fib(x - 2)"
   ]
  },
  {
   "cell_type": "code",
   "execution_count": 43,
   "metadata": {},
   "outputs": [
    {
     "name": "stdout",
     "output_type": "stream",
     "text": [
      "144\n"
     ]
    }
   ],
   "source": [
    "print(fib(12))"
   ]
  },
  {
   "cell_type": "markdown",
   "metadata": {},
   "source": [
    "# 10. Простые числа\n",
    "\n",
    "Число называется простым, если оно делится только на 1 и само себя.\n",
    "\n",
    "Напишите функцию is_prime(n), проверяющую простое ли число. Если число простое, функция должна вернуть True, иначе False (логическое значение, не строку!)."
   ]
  },
  {
   "cell_type": "code",
   "execution_count": 56,
   "metadata": {},
   "outputs": [],
   "source": [
    "def is_prime(n):\n",
    "    for i in range(2, int(n ** 0.5) + 1):\n",
    "        if n % i == 0:\n",
    "            return False\n",
    "    return True"
   ]
  },
  {
   "cell_type": "code",
   "execution_count": 59,
   "metadata": {},
   "outputs": [
    {
     "data": {
      "text/plain": [
       "True"
      ]
     },
     "execution_count": 59,
     "metadata": {},
     "output_type": "execute_result"
    }
   ],
   "source": [
    "is_prime(103)"
   ]
  },
  {
   "cell_type": "markdown",
   "metadata": {},
   "source": [
    "# A. donuts\n",
    "\n",
    "Считайте строку, содержащую натуральное число - число пончиков\n",
    "\n",
    "Напишите функцию, принимающую на вход число пончиков, а возвращающую строку:\n",
    "\n",
    "**\"Всего пончиков: <число>\"**, если пончиков не больше 9\n",
    "\n",
    "**\"Всего пончиков: много\"**, если пончиков больше 9\n",
    "\n",
    "Выведите на печать результат работы функции для считанного числа пончиков."
   ]
  },
  {
   "cell_type": "code",
   "execution_count": 62,
   "metadata": {},
   "outputs": [
    {
     "name": "stdout",
     "output_type": "stream",
     "text": [
      "78\n",
      "Всего пончиков: много\n"
     ]
    }
   ],
   "source": [
    "n = int(input())\n",
    "def donuts(n):\n",
    "    if n <= 9:\n",
    "        return f'Всего пончиков: {n}'\n",
    "    else:\n",
    "        return f'Всего пончиков: много'\n",
    "print(donuts(n))"
   ]
  },
  {
   "cell_type": "code",
   "execution_count": 65,
   "metadata": {},
   "outputs": [
    {
     "name": "stdout",
     "output_type": "stream",
     "text": [
      "9\n",
      "Всего пончиков: 9\n"
     ]
    }
   ],
   "source": [
    "n = int(input())  \n",
    "print((f'Всего пончиков: {n}','Всего пончиков: много')[n>9])"
   ]
  },
  {
   "cell_type": "markdown",
   "metadata": {},
   "source": [
    "# B. both_ends\n",
    "\n",
    "Попрактикуемся в срезах для строк.\n",
    "\n",
    "Считайте строку.\n",
    "\n",
    "Напишите функцию, которая принимает на вход строку, а возвращает 2 первых и 2 последних символа. Если длина исходной строки меньше 2 символов, необходимо вернуть пустую строку. \n",
    "\n",
    "Выведите на печать результат работы вашей функции, применённый к считанной строке."
   ]
  },
  {
   "cell_type": "code",
   "execution_count": 70,
   "metadata": {},
   "outputs": [
    {
     "name": "stdout",
     "output_type": "stream",
     "text": [
      "re\n",
      "rere\n"
     ]
    }
   ],
   "source": [
    "s = input()\n",
    "def both_ends(s):\n",
    "    if len(s) < 2: \n",
    "        return ''\n",
    "    else:\n",
    "        return s[:2] + s[-2:]\n",
    "print(both_ends(s))"
   ]
  },
  {
   "cell_type": "code",
   "execution_count": 72,
   "metadata": {},
   "outputs": [
    {
     "name": "stdout",
     "output_type": "stream",
     "text": [
      "1\n",
      "\n"
     ]
    }
   ],
   "source": [
    "print((lambda s: (s[:2] + s[-2:], '')[len(s) < 2])(input()))"
   ]
  },
  {
   "cell_type": "markdown",
   "metadata": {},
   "source": [
    "# C. fix_start\n",
    "\n",
    "Считайте строку. \n",
    "\n",
    "Напишите функцию, принимающую на вход строку, находящую 1й символ и заменяющую все его вхождения в строку кроме 1 на *.\n",
    "\n",
    "Выведите на печать результат работы вашей функции, применённый к считанной строке."
   ]
  },
  {
   "cell_type": "code",
   "execution_count": 79,
   "metadata": {},
   "outputs": [
    {
     "name": "stdout",
     "output_type": "stream",
     "text": [
      "aaaaafferfreerggaaaa\n",
      "a****fferfreergg****\n"
     ]
    }
   ],
   "source": [
    "s = input()\n",
    "def fix_start(s):\n",
    "    return s[0] + s[1:].replace(s[0], '*')\n",
    "print(fix_start(s))"
   ]
  }
 ],
 "metadata": {
  "kernelspec": {
   "display_name": "Python 3",
   "language": "python",
   "name": "python3"
  },
  "language_info": {
   "codemirror_mode": {
    "name": "ipython",
    "version": 3
   },
   "file_extension": ".py",
   "mimetype": "text/x-python",
   "name": "python",
   "nbconvert_exporter": "python",
   "pygments_lexer": "ipython3",
   "version": "3.9.0"
  }
 },
 "nbformat": 4,
 "nbformat_minor": 4
}
