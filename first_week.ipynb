{
 "cells": [
  {
   "cell_type": "code",
   "execution_count": 1,
   "metadata": {},
   "outputs": [
    {
     "name": "stdout",
     "output_type": "stream",
     "text": [
      "1.0*x**3 - 3*x**2\n"
     ]
    }
   ],
   "source": [
    "from sympy import diff, symbols\n",
    "x, y = symbols('x y')\n",
    "a = (1/4) * x**4 - x**3 + 1\n",
    "ad = a.diff(x)\n",
    "print(ad)"
   ]
  },
  {
   "cell_type": "code",
   "execution_count": 2,
   "metadata": {},
   "outputs": [
    {
     "name": "stdout",
     "output_type": "stream",
     "text": [
      "6*x**2 - 2*x\n",
      "48\n"
     ]
    }
   ],
   "source": [
    "from sympy import diff, symbols\n",
    "x, y = symbols('x y')\n",
    "a = 2 * x**3 - x**2 + 1\n",
    "ad = a.diff(x)\n",
    "print(ad)\n",
    "x = 3\n",
    "print(6*x**2 - 2*x)"
   ]
  },
  {
   "cell_type": "code",
   "execution_count": 3,
   "metadata": {},
   "outputs": [
    {
     "name": "stdout",
     "output_type": "stream",
     "text": [
      "9*x**2 + 2*y\n",
      "2*x - cos(y)\n",
      "48\n"
     ]
    }
   ],
   "source": [
    "from sympy import diff, symbols, sin\n",
    "x, y = symbols('x y')\n",
    "a = 3 * x**3 + 2*x*y - sin(y)\n",
    "dx = a.diff(x)\n",
    "dy = a.diff(y)\n",
    "print(dx)\n",
    "print(dy)\n",
    "x = 3\n",
    "print(6*x**2 - 2*x)"
   ]
  },
  {
   "cell_type": "markdown",
   "metadata": {},
   "source": [
    "Даны 2 вектора:\n",
    "* a = (1, 0, 3)\n",
    "* b = (0, 2, 1)\n",
    "\n",
    "**Найдите вектор c, такой что: \n",
    "c⃗=2a⃗−3b⃗**"
   ]
  },
  {
   "cell_type": "code",
   "execution_count": 2,
   "metadata": {},
   "outputs": [
    {
     "name": "stdout",
     "output_type": "stream",
     "text": [
      "[2, -6, 3]\n"
     ]
    }
   ],
   "source": [
    "a = [1, 0, 3]\n",
    "b = [0, 2, 1]\n",
    "c = [0, 0, 0]\n",
    "c[0] = 2*a[0] - 3*b[0]\n",
    "c[1] = 2*a[1] - 3*b[1]\n",
    "c[2] = 2*a[2] - 3*b[2]\n",
    "print(c)"
   ]
  },
  {
   "cell_type": "markdown",
   "metadata": {},
   "source": [
    "# Считайте 2 целых числа (каждое с новой строки) и найдите (каждый результат на новой строке):\n",
    "\n",
    "* сумму чисел\n",
    "* разность первого и второго\n",
    "* разность второго и первого\n",
    "* произведение\n",
    "* частное от деления первого на второе\n",
    "* остаток от деления второго на первое\n",
    "* первое число, возведённое в степень второго"
   ]
  },
  {
   "cell_type": "code",
   "execution_count": 4,
   "metadata": {},
   "outputs": [
    {
     "name": "stdout",
     "output_type": "stream",
     "text": [
      "7\n",
      "9\n",
      "16\n",
      "-2\n",
      "2\n",
      "63\n",
      "0.7777777777777778\n",
      "2\n",
      "40353607\n"
     ]
    }
   ],
   "source": [
    "a = int(input())\n",
    "b = int(input())\n",
    "print(a + b)\n",
    "print(a - b)\n",
    "print(b - a)\n",
    "print(a * b)\n",
    "print(a / b)\n",
    "print(b % a)\n",
    "print(a ** b)"
   ]
  },
  {
   "cell_type": "markdown",
   "metadata": {},
   "source": [
    "# **Считайте 2 числа, каждое с новой строки.**\n",
    "\n",
    "**Найдите целую часть от деления первого на второе.**"
   ]
  },
  {
   "cell_type": "code",
   "execution_count": 6,
   "metadata": {},
   "outputs": [
    {
     "name": "stdout",
     "output_type": "stream",
     "text": [
      "16\n",
      "3\n",
      "5\n"
     ]
    }
   ],
   "source": [
    "a = int(input())\n",
    "b = int(input())\n",
    "print(a // b)"
   ]
  },
  {
   "cell_type": "markdown",
   "metadata": {},
   "source": [
    "# Даны длины 3 сторон треугольника (каждая с новой строки).\n",
    "\n",
    "Найдите:\n",
    "\n",
    "* Периметр треугольника\n",
    "* Площадь треугольника"
   ]
  },
  {
   "cell_type": "code",
   "execution_count": 7,
   "metadata": {},
   "outputs": [
    {
     "name": "stdout",
     "output_type": "stream",
     "text": [
      "5\n",
      "5\n",
      "5\n",
      "15\n",
      "10.825317547305483\n"
     ]
    }
   ],
   "source": [
    "a = int(input())\n",
    "b = int(input())\n",
    "c = int(input())\n",
    "print(a + b + c)\n",
    "p = (a + b + c) / 2\n",
    "print((p * (p - a) * (p - b) * (p - c)) ** 0.5)"
   ]
  },
  {
   "cell_type": "markdown",
   "metadata": {},
   "source": [
    "# Даны длины 2 диагоналей ромба (каждая с новой строки).\n",
    "Значения могут быть дробными.\n",
    "\n",
    "**Найдите площадь ромба S. В качестве ответа запишите (каждое с новой строки) следующие значения:**\n",
    "* S, приведённое к целочисленному типу\n",
    "* S, округлённое до 1 знака после запятой с помощью функции  round()\n",
    "* S, точное значение без округления"
   ]
  },
  {
   "cell_type": "code",
   "execution_count": 13,
   "metadata": {},
   "outputs": [
    {
     "name": "stdout",
     "output_type": "stream",
     "text": [
      "3.6\n",
      "7.6\n",
      "13\n",
      "13.7\n",
      "13.68\n"
     ]
    }
   ],
   "source": [
    "a = float(input())\n",
    "b = float(input())\n",
    "s = (a * b) / 2\n",
    "print(int(s))\n",
    "print(round(s, 1))\n",
    "print(s)"
   ]
  },
  {
   "cell_type": "markdown",
   "metadata": {},
   "source": [
    "# Площадь шестиугольника и 5 треугольников\n",
    "### Нарисован правильный шестиугольник со стороной a.\n",
    "\n",
    "К 5 сторонам этого шестиугольника снаружи дорисовали по правильному треугольнику.\n",
    "\n",
    "Image: https://ucarecdn.com/3541f2c3-004d-4187-8027-4860d5bf5b2d/\n",
    "\n",
    "Найдите площадь получившейся фигуры.\n",
    "\n",
    "\n",
    "На вход подаётся 1 строка - длина стороны правильного шестиугольника.\n",
    "\n",
    "Ответ округлите до целых."
   ]
  },
  {
   "cell_type": "code",
   "execution_count": 20,
   "metadata": {},
   "outputs": [
    {
     "name": "stdout",
     "output_type": "stream",
     "text": [
      "85\n",
      "34414\n"
     ]
    }
   ],
   "source": [
    "a = float(input())\n",
    "p = (3 * a) / 2\n",
    "s = (p * (p - a) * (p - a) * (p - a)) ** 0.5\n",
    "ans = 6 * s + 5 * s\n",
    "print(round(ans))"
   ]
  },
  {
   "cell_type": "code",
   "execution_count": 19,
   "metadata": {},
   "outputs": [
    {
     "name": "stdout",
     "output_type": "stream",
     "text": [
      "85\n",
      "34413\n"
     ]
    }
   ],
   "source": [
    "a = float(input())\n",
    "p = (3 * a) / 2\n",
    "s = (p * (p - a) * (p - a) * (p - a)) ** 0.5\n",
    "s6 = ((3 * (3 ** 0.5)) / 2) * (a ** 2)\n",
    "ans = s6 + 5 * s\n",
    "print(int(ans))"
   ]
  },
  {
   "cell_type": "markdown",
   "metadata": {},
   "source": [
    "# 9 друзей шестиугольника\n",
    "На плоскости нарисован правильный шестиугольник с длиной стороны a.\n",
    "\n",
    "У 3 сторон шестиугольника нарисовали по квадрату с длиной стороны, равной стороне шестиугольника.\n",
    "\n",
    "Оставшиеся 3 стороны разделили пополам, после чего нарисовали по равностороннему треугольнику, касающемуся каждого из получившихся половинных отрезков.\n",
    "\n",
    "Image: https://ucarecdn.com/6244aaf8-2910-4445-b8ab-ef734eafdb52/\n",
    "\n",
    "Найдите площадь получившейся фигуры.\n",
    "\n",
    "\n",
    "На вход подаётся 1 строка - длина стороны шестиугольника.\n",
    "\n",
    "Ответ округлите до целых."
   ]
  },
  {
   "cell_type": "code",
   "execution_count": 27,
   "metadata": {},
   "outputs": [
    {
     "name": "stdout",
     "output_type": "stream",
     "text": [
      "8\n",
      "400\n"
     ]
    }
   ],
   "source": [
    "a = float(input())\n",
    "p = (3 * a) / 2\n",
    "s = (p * (p - a) * (p - a) * (p - a)) ** 0.5\n",
    "a1 = a / 2\n",
    "p1 = (3 * a1) / 2\n",
    "s1 = (p1 * (p1 - a1) * (p1 - a1) * (p1 - a1)) ** 0.5\n",
    "ans = 6 * s + 6 * s1 + 3 * (a ** 2)\n",
    "print(round(ans))"
   ]
  },
  {
   "cell_type": "markdown",
   "metadata": {},
   "source": [
    "# Додекаэдр\n",
    "На вход программа получает 1 строку - длину ребра додекаэдра.\n",
    "\n",
    "Используя формулы из Wiki найдите площадь поверхности и объём фигуры.\n",
    "\n",
    "Ответ округлите до 2 знака после запятой."
   ]
  },
  {
   "cell_type": "code",
   "execution_count": 31,
   "metadata": {},
   "outputs": [
    {
     "name": "stdout",
     "output_type": "stream",
     "text": [
      "6\n",
      "743.25\n",
      "1655.23\n"
     ]
    }
   ],
   "source": [
    "a = float(input())\n",
    "s = 3 * (a ** 2) * ((5 * (5 + 2 * (5 ** 0.5))) ** 0.5)\n",
    "v = ((a ** 3) / 4) * (15 + 7 * (5 ** 0.5))\n",
    "print(round(s, 2))\n",
    "print(round(v, 2))"
   ]
  },
  {
   "cell_type": "markdown",
   "metadata": {},
   "source": [
    "# Задача фон Неймана о мухе и поездах\n",
    "Два поезда находятся на расстоянии **L** км друг от друга и приближаются по одной колее, развивают скорости **v1** км/ч и **v2** км/ч, соответственно. С ветрового стекла одного локомотива в начальный момент движения взлетает муха и принимается летать со скоростью **vm** км/ч вперед и назад между поездами, пока те, столкнувшись, не раздавят ее.\n",
    "\n",
    "Какое расстояние успевает пролететь муха до столкновения поездов? \n",
    "\n",
    "### На вход подаётся 4 натуральных числа:\n",
    "\n",
    "* **L**\n",
    "* **v1**\n",
    "* **v2**  \n",
    "* **vm**\n",
    "  \n",
    "Ответом будет 1 натуральное число"
   ]
  },
  {
   "cell_type": "code",
   "execution_count": 33,
   "metadata": {},
   "outputs": [
    {
     "name": "stdout",
     "output_type": "stream",
     "text": [
      "200\n",
      "50\n",
      "50\n",
      "75\n",
      "150\n"
     ]
    }
   ],
   "source": [
    "l = float(input())\n",
    "v1 = float(input())\n",
    "v2 = float(input())\n",
    "vm = float(input())\n",
    "ans = l / (v1 + v2)\n",
    "print(round(vm * ans))"
   ]
  },
  {
   "cell_type": "markdown",
   "metadata": {},
   "source": [
    "# На вход подаётся строка из 3 целых чисел.\n",
    "\n",
    "Найдите сумму чисел."
   ]
  },
  {
   "cell_type": "code",
   "execution_count": 45,
   "metadata": {},
   "outputs": [
    {
     "name": "stdout",
     "output_type": "stream",
     "text": [
      "4 54 4\n",
      "62\n"
     ]
    }
   ],
   "source": [
    "print(sum(map(int, input().split())))"
   ]
  },
  {
   "cell_type": "markdown",
   "metadata": {},
   "source": [
    "# Считайте 2 строки. Каждая строка содержит по 3 натуральных числа.\n",
    "\n",
    "Найдите *сумму* чисел в каждой строке и выведите на печать одной строкой.\n",
    "\n",
    "В качестве **разделителя** между двумя получившимися числами используйте символ \"#\""
   ]
  },
  {
   "cell_type": "code",
   "execution_count": 47,
   "metadata": {},
   "outputs": [
    {
     "name": "stdout",
     "output_type": "stream",
     "text": [
      "4 4 4\n",
      "3 3 3\n",
      "12#9\n"
     ]
    }
   ],
   "source": [
    "print(f'{sum(map(int, input().split()))}#{sum(map(int, input().split()))}')"
   ]
  },
  {
   "cell_type": "markdown",
   "metadata": {},
   "source": [
    "# На вход подаётся 1 строка, слова в которой разделены символом \"&\".\n",
    "\n",
    "Необходимо вывести все слова из строки (без дубликатов) с пробелом в качестве разделителя."
   ]
  },
  {
   "cell_type": "code",
   "execution_count": 52,
   "metadata": {},
   "outputs": [
    {
     "name": "stdout",
     "output_type": "stream",
     "text": [
      "1&of&hfffff&1&1&1&cat&cata&cat\n",
      "of cat 1 hfffff cata\n"
     ]
    }
   ],
   "source": [
    "print(*set(input().split('&')))"
   ]
  },
  {
   "cell_type": "markdown",
   "metadata": {},
   "source": [
    "# На вход подаётся строка, слова в которой разделены между собой пробелами.\n",
    "\n",
    "Напечатайте 2, 3 и предпоследнее слова из строки (через пробел)"
   ]
  },
  {
   "cell_type": "code",
   "execution_count": 53,
   "metadata": {},
   "outputs": [
    {
     "name": "stdout",
     "output_type": "stream",
     "text": [
      "And this is some long line, which consists of a set of words\n",
      "this is of\n"
     ]
    }
   ],
   "source": [
    "s = input().split()\n",
    "print(f'{s[1]} {s[2]} {s[-2]}')"
   ]
  },
  {
   "cell_type": "markdown",
   "metadata": {},
   "source": [
    "# На вход подаётся 1 строка, слова в которой разделены пробелами.\n",
    "\n",
    "Напечатайте слова из этой строки в обратном порядке, используя в качестве разделителя \"-$-\""
   ]
  },
  {
   "cell_type": "code",
   "execution_count": 63,
   "metadata": {},
   "outputs": [
    {
     "name": "stdout",
     "output_type": "stream",
     "text": [
      "one two three four five six\n",
      "six-$-five-$-four-$-three-$-two-$-one\n"
     ]
    }
   ],
   "source": [
    "s = input().split()\n",
    "ans = ''\n",
    "for i in s[::-1]:\n",
    "    ans += f'{i}-$-'\n",
    "print(ans[:-3])"
   ]
  },
  {
   "cell_type": "code",
   "execution_count": 64,
   "metadata": {},
   "outputs": [
    {
     "name": "stdout",
     "output_type": "stream",
     "text": [
      "1 2 3 4 5\n",
      "5-$-4-$-3-$-2-$-1\n"
     ]
    }
   ],
   "source": [
    "print('-$-'.join(input().split()[::-1]))"
   ]
  },
  {
   "cell_type": "markdown",
   "metadata": {},
   "source": [
    "# На вход подаётся 1 строка, слова в которой разделены пробелами.\n",
    "\n",
    "Напечатайте через пробел число слов в строке и число слов \"one\" в строке.\n",
    "\n",
    "**Примечание1.** Учитывайте вхождение только слова полностью в нижнем регистре - \"one\". \"One\", \"ONE\" и т.п. не учитывайте.\n",
    "\n"
   ]
  },
  {
   "cell_type": "code",
   "execution_count": 71,
   "metadata": {},
   "outputs": [
    {
     "name": "stdout",
     "output_type": "stream",
     "text": [
      "3 one fjifjf One\n",
      "4 1\n"
     ]
    }
   ],
   "source": [
    "s = input().split()\n",
    "print(len(s), s.count('one'))"
   ]
  },
  {
   "cell_type": "markdown",
   "metadata": {},
   "source": [
    "# Считайте текст с клавиатуры (из стандартного потока ввода) и выведите его на печать."
   ]
  },
  {
   "cell_type": "code",
   "execution_count": 73,
   "metadata": {},
   "outputs": [
    {
     "name": "stdout",
     "output_type": "stream",
     "text": [
      "fdjsfsdf\n",
      "fdjsfsdf\n"
     ]
    }
   ],
   "source": [
    "print(input())"
   ]
  },
  {
   "cell_type": "markdown",
   "metadata": {},
   "source": [
    "# Считайте 2 строки и выведите их на печать, разделив символом $."
   ]
  },
  {
   "cell_type": "code",
   "execution_count": 74,
   "metadata": {},
   "outputs": [
    {
     "name": "stdout",
     "output_type": "stream",
     "text": [
      "sdfhsodf\n",
      "sdfsdf\n",
      "sdfhsodf$sdfsdf\n"
     ]
    }
   ],
   "source": [
    "print(f'{input()}${input()}')"
   ]
  },
  {
   "cell_type": "markdown",
   "metadata": {},
   "source": [
    "# Запишите в переменную B2 строку, состоящую только из символов строки B1 с нечётными индексами"
   ]
  },
  {
   "cell_type": "code",
   "execution_count": 77,
   "metadata": {},
   "outputs": [
    {
     "name": "stdout",
     "output_type": "stream",
     "text": [
      "bdfhj\n"
     ]
    }
   ],
   "source": [
    "b1 = 'abcdefghij'\n",
    "b2 = b1[1::2]\n",
    "print(b2)"
   ]
  },
  {
   "cell_type": "markdown",
   "metadata": {},
   "source": [
    "# Запишите в переменную C2 предпоследний символ переменной C1"
   ]
  },
  {
   "cell_type": "code",
   "execution_count": 78,
   "metadata": {},
   "outputs": [
    {
     "name": "stdout",
     "output_type": "stream",
     "text": [
      "i\n"
     ]
    }
   ],
   "source": [
    "c1 = 'abcdefghij'\n",
    "c2 = c1[-2]\n",
    "print(c2)"
   ]
  },
  {
   "cell_type": "markdown",
   "metadata": {},
   "source": [
    "# На вход даётся текстовое отображение списка.\n",
    "Необходимо превратить её в настоящий список (с сохранением порядка, а также не потерять пустую строку) и сохранить в переменную L."
   ]
  },
  {
   "cell_type": "code",
   "execution_count": 88,
   "metadata": {},
   "outputs": [
    {
     "name": "stdout",
     "output_type": "stream",
     "text": [
      "['mix', 'extra', '', 'x-files', 'xyz', 'xapple', 'apple']\n"
     ]
    }
   ],
   "source": [
    "s = \"['mix', 'extra', '', 'x-files', 'xyz', 'xapple', 'apple']\"\n",
    "s = s.replace('[', '')\n",
    "s = s.replace(']', '')\n",
    "s = s.replace(\"'\", '')\n",
    "s = s.replace(' ', '')\n",
    "L = list(s.split(','))\n",
    "print(L)"
   ]
  },
  {
   "cell_type": "markdown",
   "metadata": {},
   "source": [
    "# Римские цифры\n",
    "\n",
    "Считайте число (см таблицу) в арабской записи и выведите на печать, соответствующую ему римскую цифру:\n",
    "* 1 - I\n",
    "* 5 - V\n",
    "* 10 - X\n",
    "* 50 - L\n",
    "* 100 - C\n",
    "* 500 - D\n",
    "* 1000 - M"
   ]
  },
  {
   "cell_type": "code",
   "execution_count": 91,
   "metadata": {},
   "outputs": [
    {
     "name": "stdout",
     "output_type": "stream",
     "text": [
      "20\n"
     ]
    }
   ],
   "source": [
    "a = int(input())\n",
    "if a == 1:\n",
    "    print('I')\n",
    "elif a == 5:\n",
    "    print('V')\n",
    "elif a == 10:\n",
    "    print('X')\n",
    "elif a == 50:\n",
    "    print('L')\n",
    "elif a == 100:\n",
    "    print('C')\n",
    "elif a == 500:\n",
    "    print('D')\n",
    "elif a == 1000:\n",
    "    print('M')"
   ]
  },
  {
   "cell_type": "code",
   "execution_count": 99,
   "metadata": {},
   "outputs": [
    {
     "name": "stdout",
     "output_type": "stream",
     "text": [
      "2999\n",
      "MMCMXCIX\n"
     ]
    }
   ],
   "source": [
    "ROMANS = (('M',  1000),\n",
    "          ('CM', 900),\n",
    "          ('D',  500),\n",
    "          ('CD', 400),\n",
    "          ('C',  100),\n",
    "          ('XC', 90),\n",
    "          ('L',  50),\n",
    "          ('XL', 40),\n",
    "          ('X',  10),\n",
    "          ('IX', 9),\n",
    "          ('V',  5),\n",
    "          ('IV', 4),\n",
    "          ('I',  1))\n",
    "\n",
    "\n",
    "def rome_numerals(data):\n",
    "    num = ''\n",
    "    for roman, value in ROMANS:\n",
    "        while data >= value:\n",
    "            data -= value\n",
    "            num += roman\n",
    "    return num\n",
    "\n",
    "print(rome_numerals(int(input())))"
   ]
  },
  {
   "cell_type": "markdown",
   "metadata": {},
   "source": [
    "# Считайте строку.\n",
    "\n",
    "Если она содержит число 0, выведите на печать фразу \"Division by zero!\"\n",
    "\n",
    "Если она содержит число, отличное от 0, то считайте ещё одну строку, содержащую число, и напечатайте результат деления 2-ого числа на 1-е. Результат деления округлите до 1 знака после запятой (используйте round)."
   ]
  },
  {
   "cell_type": "code",
   "execution_count": 101,
   "metadata": {},
   "outputs": [
    {
     "name": "stdout",
     "output_type": "stream",
     "text": [
      "3\n",
      "4\n",
      "1.3\n"
     ]
    }
   ],
   "source": [
    "a = float(input())\n",
    "if a == 0: \n",
    "    print(\"Division by zero!\")\n",
    "else:\n",
    "    print(round((float(input()) / a), 1))"
   ]
  },
  {
   "cell_type": "code",
   "execution_count": 103,
   "metadata": {},
   "outputs": [
    {
     "name": "stdout",
     "output_type": "stream",
     "text": [
      "3\n",
      "4\n",
      "1.3\n"
     ]
    }
   ],
   "source": [
    "a = float(input())\n",
    "print(\"Division by zero!\" if a == 0 else round((float(input()) / a), 1))"
   ]
  },
  {
   "cell_type": "markdown",
   "metadata": {},
   "source": [
    "# Пора объединить полученные знания.\n",
    "\n",
    "Считайте 1 строку. Она содержит строку с названием типа последующих данных. Возможны 3 типа:\n",
    "\n",
    "int\n",
    "str\n",
    "list\n",
    "В случае получения другого типа выведите на печать строку \"Unknown type\".\n",
    "\n",
    "\n",
    "Если получен тип 'int':\n",
    "\n",
    "Считайте ещё 2 строки. Каждая будет содержать целое число.\n",
    "\n",
    "Если оба числа равны 0, выведите на печать строку \"Empty Ints\"\n",
    "Иначе выведите на печать сумму этих чисел\n",
    "\n",
    "\n",
    "Если получен тип 'str':\n",
    "\n",
    "Считайте ещё 1 строку.\n",
    "\n",
    "Если строка пустая, выведите на печать строку \"Empty String\"\n",
    "Иначе напечатайте эту строку\n",
    "\n",
    "\n",
    "Если получен тип 'list':\n",
    "\n",
    "Считайте 1 строку и разрежьте её на элементы с помощью split().\n",
    "\n",
    "Если получившийся список пустой, выведите на печать строку \"Empty List\"\n",
    "Иначе выведите на печать последний элемент списка. Примечание, используйте отрицательный индекс.\n",
    "﻿\n",
    "\n",
    "Используйте приведение типов для определения пустых списков и строк, а так же чисел, равных 0."
   ]
  },
  {
   "cell_type": "code",
   "execution_count": 107,
   "metadata": {},
   "outputs": [
    {
     "name": "stdout",
     "output_type": "stream",
     "text": [
      "list\n",
      "we we wef3 3 2\n",
      "2\n"
     ]
    }
   ],
   "source": [
    "s = input()\n",
    "if s == 'int':\n",
    "    a = int(input())\n",
    "    b = int(input())\n",
    "    if a == 0 and b == 0:\n",
    "        print('Empty Ints')\n",
    "    else:\n",
    "        print(a + b)\n",
    "elif s == 'str':\n",
    "    a = input()\n",
    "    if a == '':\n",
    "        print('Empty String')\n",
    "    else:\n",
    "        print(a)\n",
    "elif s == 'list':\n",
    "    a = input().split()\n",
    "    if a == []:\n",
    "        print('Empty List')\n",
    "    else:\n",
    "        print(a[-1])\n",
    "else:\n",
    "    print('Unknown type')"
   ]
  },
  {
   "cell_type": "markdown",
   "metadata": {},
   "source": [
    "# Считайте натуральное число n.\n",
    "\n",
    "Выведите на печать все числа от 0 до n, включительно, каждое с новой строки"
   ]
  },
  {
   "cell_type": "code",
   "execution_count": 108,
   "metadata": {},
   "outputs": [
    {
     "name": "stdout",
     "output_type": "stream",
     "text": [
      "5\n",
      "0\n",
      "1\n",
      "2\n",
      "3\n",
      "4\n",
      "5\n"
     ]
    }
   ],
   "source": [
    "n = int(input())\n",
    "for i in range(n + 1):\n",
    "    print(i)"
   ]
  },
  {
   "cell_type": "code",
   "execution_count": 112,
   "metadata": {},
   "outputs": [
    {
     "name": "stdout",
     "output_type": "stream",
     "text": [
      "5\n",
      "0\n",
      "1\n",
      "2\n",
      "3\n",
      "4\n",
      "5\n"
     ]
    },
    {
     "data": {
      "text/plain": [
       "[None, None, None, None, None, None]"
      ]
     },
     "execution_count": 112,
     "metadata": {},
     "output_type": "execute_result"
    }
   ],
   "source": [
    "[print(i) for i in range(int(input()) + 1)]"
   ]
  },
  {
   "cell_type": "markdown",
   "metadata": {},
   "source": [
    "# Считайте натуральное число n.\n",
    "\n",
    "Выведите на печать все квадраты чётных чисел от 0 до n-1 (включительно), каждый с новой строки."
   ]
  },
  {
   "cell_type": "code",
   "execution_count": 115,
   "metadata": {},
   "outputs": [
    {
     "name": "stdout",
     "output_type": "stream",
     "text": [
      "7\n",
      "0\n",
      "4\n",
      "16\n",
      "36\n"
     ]
    },
    {
     "data": {
      "text/plain": [
       "[None, None, None, None]"
      ]
     },
     "execution_count": 115,
     "metadata": {},
     "output_type": "execute_result"
    }
   ],
   "source": [
    "[print(i ** 2) for i in range(0, int(input()), 2)]"
   ]
  },
  {
   "cell_type": "markdown",
   "metadata": {},
   "source": [
    "# Считывайте целые числа из потока ввода по одному до тех пор, пока не встретите строку \"The End\".\n",
    "\n",
    "Выведите на печать сумму считанных чисел."
   ]
  },
  {
   "cell_type": "code",
   "execution_count": 120,
   "metadata": {},
   "outputs": [
    {
     "name": "stdout",
     "output_type": "stream",
     "text": [
      "3\n",
      "3\n",
      "3\n",
      "3\n",
      "The End\n",
      "12\n"
     ]
    }
   ],
   "source": [
    "ans = 0\n",
    "while True:\n",
    "    s = input()\n",
    "    if s == 'The End':\n",
    "        break\n",
    "    else:\n",
    "        ans += int(s)\n",
    "print(ans)"
   ]
  },
  {
   "cell_type": "code",
   "execution_count": 121,
   "metadata": {},
   "outputs": [
    {
     "name": "stdout",
     "output_type": "stream",
     "text": [
      "3\n",
      "3\n",
      "3\n",
      "3\n",
      "The End\n",
      "12\n"
     ]
    }
   ],
   "source": [
    "print(sum(map(int, iter(input, 'The End'))))"
   ]
  },
  {
   "cell_type": "markdown",
   "metadata": {},
   "source": [
    "# На вход подаётся строка, некоторые слова в которой \"испорчены\".\n",
    "\n",
    "Признак \"испорченного\" слова - 1я буква в нём заменена на *.\n",
    "\n",
    "Выведете на печать только \"не испорченные\" слова, каждое с новой строки"
   ]
  },
  {
   "cell_type": "code",
   "execution_count": 123,
   "metadata": {},
   "outputs": [
    {
     "name": "stdout",
     "output_type": "stream",
     "text": [
      "exaggeration *romotion run into admit exactly *idelity *erspective treat check certain\n",
      "exaggeration\n",
      "run\n",
      "into\n",
      "admit\n",
      "exactly\n",
      "treat\n",
      "check\n",
      "certain\n"
     ]
    }
   ],
   "source": [
    "s = input().split()\n",
    "for i in s: \n",
    "    if i[0] == '*':\n",
    "        continue\n",
    "    else:\n",
    "        print(i)"
   ]
  },
  {
   "cell_type": "code",
   "execution_count": 126,
   "metadata": {},
   "outputs": [
    {
     "name": "stdout",
     "output_type": "stream",
     "text": [
      "exaggeration *romotion run into admit exactly *idelity *erspective treat check certain\n",
      "exaggeration\n",
      "run\n",
      "into\n",
      "admit\n",
      "exactly\n",
      "treat\n",
      "check\n",
      "certain\n"
     ]
    }
   ],
   "source": [
    "print(*(i for i in input().split() if i[0] != '*'), sep='\\n')"
   ]
  },
  {
   "cell_type": "markdown",
   "metadata": {},
   "source": [
    "# Считайте натуральное число n\n",
    "Найдите самый маленький натуральный делитель числа n, отличный от 1 (2 <= n <= 30000)."
   ]
  },
  {
   "cell_type": "code",
   "execution_count": 132,
   "metadata": {},
   "outputs": [
    {
     "name": "stdout",
     "output_type": "stream",
     "text": [
      "3234222422522252\n",
      "2\n"
     ]
    }
   ],
   "source": [
    "n = int(input())\n",
    "for i in range(2, n + 1):\n",
    "    if n % i == 0:\n",
    "        print(i)\n",
    "        break"
   ]
  },
  {
   "cell_type": "code",
   "execution_count": 141,
   "metadata": {},
   "outputs": [
    {
     "name": "stdout",
     "output_type": "stream",
     "text": [
      "123123133\n",
      "7\n"
     ]
    }
   ],
   "source": [
    "print(next(i for n in [int(input())] for i in range(2, n + 1) if n % i == 0))"
   ]
  },
  {
   "cell_type": "markdown",
   "metadata": {},
   "source": [
    "# Считайте целое число n\n",
    "Напечатайте кубы всех натуральных чисел, меньших |n|, каждое с новой строки."
   ]
  },
  {
   "cell_type": "code",
   "execution_count": 144,
   "metadata": {},
   "outputs": [
    {
     "name": "stdout",
     "output_type": "stream",
     "text": [
      "-5\n",
      "1\n",
      "8\n",
      "27\n",
      "64\n"
     ]
    }
   ],
   "source": [
    "n = int(input())\n",
    "for i in range(1, abs(n)):\n",
    "    print(i ** 3)"
   ]
  },
  {
   "cell_type": "code",
   "execution_count": 145,
   "metadata": {},
   "outputs": [
    {
     "name": "stdout",
     "output_type": "stream",
     "text": [
      "-5\n",
      "1\n",
      "8\n",
      "27\n",
      "64\n"
     ]
    },
    {
     "data": {
      "text/plain": [
       "[None, None, None, None]"
      ]
     },
     "execution_count": 145,
     "metadata": {},
     "output_type": "execute_result"
    }
   ],
   "source": [
    "[print(i ** 3) for i in range(1, abs(int(input())))]"
   ]
  },
  {
   "cell_type": "markdown",
   "metadata": {},
   "source": [
    "# Напишите функцию sum2(a,b), которая возвращает сумму 2 чисел."
   ]
  },
  {
   "cell_type": "code",
   "execution_count": 146,
   "metadata": {},
   "outputs": [
    {
     "name": "stdout",
     "output_type": "stream",
     "text": [
      "9\n"
     ]
    }
   ],
   "source": [
    "def sum2(a, b):\n",
    "    return a + b\n",
    "print(sum2(5, 4))"
   ]
  },
  {
   "cell_type": "markdown",
   "metadata": {},
   "source": [
    "# Напишите функцию Hello, которая принимает 1 необязательный параметр:\n",
    "\n",
    "* Если параметр не задан, то функция выводит на печать сообщение \"Hello, %UserName%!\"\n",
    "* Если параметр задан, то вместо %UserName% в приветствии выводится переданное значение\n"
   ]
  },
  {
   "cell_type": "code",
   "execution_count": 148,
   "metadata": {},
   "outputs": [
    {
     "name": "stdout",
     "output_type": "stream",
     "text": [
      "Hello, %UserName%!\n",
      "Hello, Vova!\n"
     ]
    }
   ],
   "source": [
    "def Hello(name = '%UserName%'):\n",
    "    print(f'Hello, {name}!')\n",
    "\n",
    "Hello()\n",
    "Hello('Vova')"
   ]
  },
  {
   "cell_type": "markdown",
   "metadata": {},
   "source": [
    "# Напишите функцию, для нахождения двойного факториала числа dfactorial(n).\n",
    "\n",
    "Двойной факториал числа n обозначается n‼ и определяется как произведение всех натуральных чисел в отрезке [1,n], имеющих ту же чётность, что и n.\n",
    "\n",
    "* Для чётного n: n!! = 2⋅4⋅6⋅…⋅n\n",
    "* Для нечётного n: n!! = 1⋅3⋅5⋅…⋅n"
   ]
  },
  {
   "cell_type": "code",
   "execution_count": 150,
   "metadata": {},
   "outputs": [
    {
     "name": "stdout",
     "output_type": "stream",
     "text": [
      "15\n",
      "2\n"
     ]
    }
   ],
   "source": [
    "def dfactorial(n):\n",
    "    if n <= 0:\n",
    "        return 1\n",
    "    elif n % 2 == 0:\n",
    "        return n * dfactorial(n - 2)\n",
    "    else:\n",
    "        return n * dfactorial(n - 2)\n",
    "    \n",
    "print(dfactorial(5))\n",
    "print(dfactorial(2))"
   ]
  },
  {
   "cell_type": "code",
   "execution_count": 162,
   "metadata": {},
   "outputs": [
    {
     "name": "stdout",
     "output_type": "stream",
     "text": [
      "5\n",
      "15\n"
     ]
    }
   ],
   "source": [
    "def dfactorial(n):\n",
    "    return n * dfactorial(n-2) if n > 1 else 1\n",
    "\n",
    "print(dfactorial(int(input())))"
   ]
  },
  {
   "cell_type": "markdown",
   "metadata": {},
   "source": [
    "# Напишите функцию для нахождения кратного факториала числа Kfactorial.\n",
    "\n",
    "Функция factorial должна иметь 2 параметра:\n",
    "\n",
    "* n - число для которого вычисляется факториал (обязательный)\n",
    "* k - кратность факториала (необязательный, значение по-умолчанию - 1)\n",
    "\n",
    "По сути кратный факториал это продолжение идеи двойного факториала. Только теперь \"шаг\" при вычислении не 2, а k."
   ]
  },
  {
   "cell_type": "code",
   "execution_count": 176,
   "metadata": {},
   "outputs": [
    {
     "name": "stdout",
     "output_type": "stream",
     "text": [
      "1\n"
     ]
    }
   ],
   "source": [
    "def Kfactorial(n, k = 1):\n",
    "    if n == 0:\n",
    "        return 1\n",
    "    elif n <= k:\n",
    "        return n\n",
    "    else:\n",
    "        return n * Kfactorial(n-k, k)\n",
    "    \n",
    "print(Kfactorial(0))"
   ]
  },
  {
   "cell_type": "code",
   "execution_count": 178,
   "metadata": {},
   "outputs": [
    {
     "name": "stdout",
     "output_type": "stream",
     "text": [
      "1\n"
     ]
    }
   ],
   "source": [
    "def Kfactorial(n, k = 1):\n",
    "    if n == 0:\n",
    "        return 1\n",
    "    else:\n",
    "        return n * Kfactorial(n-k, k) if n > k else n\n",
    "\n",
    "print(Kfactorial(0))"
   ]
  },
  {
   "cell_type": "markdown",
   "metadata": {},
   "source": [
    "# Напишите функцию convert(L), принимающую на вход список, состоящий из чисел и строк вида:\n",
    "\n",
    "* [1, 2, '3', '4', '5', 6]\n",
    "\n",
    "и возвращающую список целых чисел (в том же порядке):\n",
    "\n",
    "* [1, 2, 3, 4, 5, 6]"
   ]
  },
  {
   "cell_type": "code",
   "execution_count": 179,
   "metadata": {},
   "outputs": [
    {
     "name": "stdout",
     "output_type": "stream",
     "text": [
      "[1, 2, 3, 4, 5, 6]\n"
     ]
    }
   ],
   "source": [
    "def convert(L):\n",
    "    return list(map(int, L))\n",
    "\n",
    "L = [1, 2, '3', '4', '5', 6]\n",
    "print(convert(L))"
   ]
  },
  {
   "cell_type": "markdown",
   "metadata": {},
   "source": [
    "# Напишите функцию перевода числа из десятичной системы счисления в систему с основанием n\n",
    "\n",
    "Функция translate должна принимать 2 параметра:\n",
    "\n",
    "* обязательный (исходное целое число в десятичной системе счисления)\n",
    "* необязательный, по-умолчанию 2 (основание новой системы счисления, в которую переводится число)\n"
   ]
  },
  {
   "cell_type": "code",
   "execution_count": 9,
   "metadata": {},
   "outputs": [
    {
     "name": "stdout",
     "output_type": "stream",
     "text": [
      "10011\n"
     ]
    }
   ],
   "source": [
    "def translate(a, n = 2):\n",
    "    s = ''\n",
    "    while a != 0:\n",
    "        s += str(a % n)\n",
    "        a //= n\n",
    "    return s[::-1]\n",
    "\n",
    "print(translate(19))"
   ]
  },
  {
   "cell_type": "markdown",
   "metadata": {},
   "source": [
    "# Напишите 2 функции:\n",
    "\n",
    "* для нахождения факториала числа factorial(n)=n!=1⋅2⋅3⋅…⋅n\n",
    "* для нахождения суперфакториала числа sf(n)=1!⋅2!⋅3!⋅…⋅n!\n",
    "\n",
    "Используйте функцию факториала для вычисления суперфакториала, чтобы сократить объём кода."
   ]
  },
  {
   "cell_type": "code",
   "execution_count": 14,
   "metadata": {},
   "outputs": [
    {
     "name": "stdout",
     "output_type": "stream",
     "text": [
      "120\n",
      "34560\n"
     ]
    }
   ],
   "source": [
    "def factorial(n):\n",
    "    if n == 0:\n",
    "        return 1\n",
    "    else:\n",
    "        return n * factorial(n - 1)\n",
    "\n",
    "def sf(n):\n",
    "    if n == 0:\n",
    "        return 1\n",
    "    else:\n",
    "        return factorial(n) * sf(n - 1)\n",
    "    \n",
    "print(factorial(5))\n",
    "print(sf(5))"
   ]
  },
  {
   "cell_type": "markdown",
   "metadata": {},
   "source": [
    "# Напишите функцию maxId(L), принимающую на вход список чисел и строк вида:\n",
    "\n",
    "* [1, 2, '42', '3', '4', '5', 6, 13]\n",
    "без повторений, и находящую индекс максимального целого числа в списке.\n",
    "\n",
    "Используйте ранее написанную функцию convert(L)."
   ]
  },
  {
   "cell_type": "code",
   "execution_count": 18,
   "metadata": {},
   "outputs": [
    {
     "name": "stdout",
     "output_type": "stream",
     "text": [
      "2\n"
     ]
    }
   ],
   "source": [
    "def convert(L):\n",
    "    return list(map(int, L))\n",
    "\n",
    "def maxId(L):\n",
    "    L = convert(L)\n",
    "    return L.index(max(L))\n",
    "    \n",
    "L = [1, 2, '42', '3', '4', '5', 6, 13]\n",
    "print(maxId(L))"
   ]
  },
  {
   "cell_type": "code",
   "execution_count": 19,
   "metadata": {},
   "outputs": [
    {
     "name": "stdout",
     "output_type": "stream",
     "text": [
      "2\n"
     ]
    }
   ],
   "source": [
    "def maxId(L):\n",
    "    return L.index(max(L, key=int))\n",
    "\n",
    "L = [1, 2, '42', '3', '4', '5', 6, 13]\n",
    "print(maxId(L))"
   ]
  },
  {
   "cell_type": "markdown",
   "metadata": {},
   "source": [
    "# Откройте файл, имя которого передаётся на вход.\n",
    "\n",
    "Файл содержит произвольное количество целых чисел, каждое с новой строки.\n",
    "\n",
    "Выведите на печать сумму всех целых чисел, записанных в файле."
   ]
  },
  {
   "cell_type": "code",
   "execution_count": 22,
   "metadata": {},
   "outputs": [
    {
     "name": "stdout",
     "output_type": "stream",
     "text": [
      "1.txt\n",
      "27\n"
     ]
    }
   ],
   "source": [
    "name = input()\n",
    "with open(name) as file:\n",
    "    ans = 0\n",
    "    for row in file:\n",
    "        ans += int(row)\n",
    "print(ans)"
   ]
  },
  {
   "cell_type": "markdown",
   "metadata": {},
   "source": [
    "# Откройте файл, имя которого передаётся на вход.\n",
    "\n",
    "Выведите на печать предпоследнюю строку."
   ]
  },
  {
   "cell_type": "code",
   "execution_count": 24,
   "metadata": {},
   "outputs": [
    {
     "name": "stdout",
     "output_type": "stream",
     "text": [
      "1.txt\n",
      "4\n",
      "\n"
     ]
    }
   ],
   "source": [
    "name = input()\n",
    "with open(name) as file:\n",
    "    print(file.readlines()[-2])\n",
    "    "
   ]
  },
  {
   "cell_type": "markdown",
   "metadata": {},
   "source": [
    "# Представьте себя сотрудником деканата. Преподаватели предоставляют вам по 2 файла, имена которых находятся в переменных:\n",
    "\n",
    "* **sheet** - экзаменационную ведомость с фамилиями, именами и отчествами (если есть), оценками и статусами\n",
    "* **mean** - среднюю оценку по группе\n",
    "\n",
    "Последнее значение (в скобках) - статус:\n",
    "\n",
    "**экзамен** - человек пришёл на экзамен и получил там оценку\n",
    "**автомат** - человек хорошо учился и получил оценку \"автоматом\" до экзамена\n",
    "**неявка** - человек не пришёл на экзамен и у него нет оценки\n",
    "**недопуск** - человек не сдал зачёт по физкультуре, а потому его не допустили к нашему экзамену\n",
    "\n",
    "Средняя оценка вычисляется только для тех, кто сдавал экзамен очно или получил автомат\n",
    "\n",
    "Ваша задача считать данные по всем студентам из файла, вычислить средний балл и сравнить его с тем, что указал преподаватель в mean.\n",
    "\n",
    "Если средний балл верен - напечатать \"OK\"\n",
    "\n",
    "Если средний балл рассчитан с ошибкой - напечатать \"ERROR\""
   ]
  },
  {
   "cell_type": "code",
   "execution_count": 50,
   "metadata": {},
   "outputs": [
    {
     "name": "stdout",
     "output_type": "stream",
     "text": [
      "OK\n",
      "4.0 4.0\n"
     ]
    }
   ],
   "source": [
    "sheet = \"sheet.txt\"\n",
    "mean = \"mean.txt\"\n",
    "ans = 0\n",
    "n = 0\n",
    "with open(sheet) as file:\n",
    "    for row in file:\n",
    "        try:\n",
    "            ans += int(row.split()[-2])\n",
    "            n += 1\n",
    "        except:\n",
    "            continue\n",
    "ans /= n\n",
    "with open(mean) as file:\n",
    "    for row in file:\n",
    "        avg = float(row)\n",
    "if ans == avg:\n",
    "    print('OK')\n",
    "else:\n",
    "    print('ERROR')"
   ]
  },
  {
   "cell_type": "markdown",
   "metadata": {},
   "source": [
    "# На вход подаётся полный путь к файлу относительно текущего каталога.\n",
    "\n",
    "Проверьте есть ли такой файл (и файл ли это) и если он есть - выведите содержимое. Иначе выведите одну из 2 ошибок."
   ]
  },
  {
   "cell_type": "code",
   "execution_count": 1,
   "metadata": {},
   "outputs": [
    {
     "name": "stdout",
     "output_type": "stream",
     "text": [
      "reter\n",
      "ERROR:\n",
      "Файл не существует\n"
     ]
    }
   ],
   "source": [
    "import os.path\n",
    "\n",
    "name = input()\n",
    "if os.path.isfile(name):\n",
    "    print('CONTENT:')\n",
    "    with open(name) as file:\n",
    "        for row in file:\n",
    "            print(row)\n",
    "elif os.path.exists(name):\n",
    "    print('ERROR:')\n",
    "    print('Это каталог, а не файл')\n",
    "else:\n",
    "    print('ERROR:')\n",
    "    print('Файл не существует')\n"
   ]
  },
  {
   "cell_type": "markdown",
   "metadata": {},
   "source": [
    "# Считайте строку, подаваемую на вход и запишите её в файл \"output.txt\"."
   ]
  },
  {
   "cell_type": "code",
   "execution_count": 2,
   "metadata": {},
   "outputs": [
    {
     "name": "stdout",
     "output_type": "stream",
     "text": [
      "Hello, world!\n"
     ]
    }
   ],
   "source": [
    "s = input()\n",
    "with open('output.txt', 'w') as file:\n",
    "    file.write(s)"
   ]
  },
  {
   "cell_type": "markdown",
   "metadata": {},
   "source": [
    "# Дополние лога\n",
    "\n",
    "**event** - переменная с текстом события\n",
    "\n",
    "**file_name** - имя файла с логом\n",
    "\n",
    "Файл с логом содержит записи о некоторых событиях вида:\n",
    "\n",
    "* event 3 - 'git log -2'\n",
    "* event 2 - 'git log'\n",
    "* event 1 - 'git status'\n",
    "\n",
    "Пример нового события:\n",
    "\n",
    "* git fetch origin\n",
    "\n",
    "Дополните лог в файле так, чтобы новое событие было записано вверху. Не забудьте указать порядковый номер события.\n",
    "\n",
    "* event 4 - 'git fetch origin'\n",
    "* event 3 - 'git log -2'\n",
    "* event 2 - 'git log'\n",
    "* event 1 - 'git status'\n",
    "\n",
    "Если файл отсутствует или не содержит записей, начните нумеровать события с 1."
   ]
  },
  {
   "cell_type": "code",
   "execution_count": 18,
   "metadata": {},
   "outputs": [
    {
     "name": "stdout",
     "output_type": "stream",
     "text": [
      "sfsdf\n",
      "output.txt\n",
      "event 5 - 'sfsdf'\n",
      "event 4 - '3434'\n",
      "event 3 - 'dsfsdf'\n",
      "event 2 - '67667'\n",
      "\n",
      "\n",
      "\n",
      "\n",
      "event 1 - '777'\n"
     ]
    }
   ],
   "source": [
    "event = input()\n",
    "file_name = input()\n",
    "lst = []\n",
    "ii = 0\n",
    "\n",
    "if os.path.isfile(file_name):\n",
    "    with open(file_name) as file:\n",
    "        for row in file:\n",
    "            if row == '\\n':\n",
    "                lst.append(row)\n",
    "            else:\n",
    "                lst.append(row)\n",
    "                ii += 1\n",
    "    new_line = f\"event {ii + 1} - '{event}'\\n\"\n",
    "\n",
    "    with open(file_name, 'w') as file:\n",
    "        file.writelines([new_line, *lst])\n",
    "else:\n",
    "    new_line = f\"event 1 - '{event}'\\n\"\n",
    "\n",
    "    with open(file_name, 'w') as file:\n",
    "        file.writelines([new_line])\n",
    "        \n",
    "with open(file_name) as file:\n",
    "    for row in file:\n",
    "        print(row, end = '')"
   ]
  },
  {
   "cell_type": "code",
   "execution_count": 20,
   "metadata": {},
   "outputs": [
    {
     "name": "stdout",
     "output_type": "stream",
     "text": [
      "sdfsfsf\n",
      "output.txt\n",
      "event 7 - 'sdfsfsf'\n",
      "event 6 - 'sdfsfsdf'\n",
      "event 5 - 'sfsdf'\n",
      "event 4 - '3434'\n",
      "event 3 - 'dsfsdf'\n",
      "event 2 - '67667'\n",
      "\n",
      "\n",
      "\n",
      "\n",
      "event 1 - '777'\n"
     ]
    }
   ],
   "source": [
    "import os.path\n",
    "\n",
    "event = input()\n",
    "file_name = input()\n",
    "mode = \"r+\" if os.path.isfile(file_name) else \"x+\"\n",
    "with open(file_name, mode) as h:\n",
    "    lines = h.readlines()\n",
    "    c = len(lines) - lines.count(\"\\n\") + 1\n",
    "    h.seek(0)\n",
    "    h.write(f\"event {c} - '{event}'\\n\")\n",
    "    h.writelines(lines)\n",
    "    \n",
    "with open(file_name) as file:\n",
    "    for row in file:\n",
    "        print(row, end = '')"
   ]
  }
 ],
 "metadata": {
  "kernelspec": {
   "display_name": "Python 3",
   "language": "python",
   "name": "python3"
  },
  "language_info": {
   "codemirror_mode": {
    "name": "ipython",
    "version": 3
   },
   "file_extension": ".py",
   "mimetype": "text/x-python",
   "name": "python",
   "nbconvert_exporter": "python",
   "pygments_lexer": "ipython3",
   "version": "3.9.0"
  }
 },
 "nbformat": 4,
 "nbformat_minor": 4
}
