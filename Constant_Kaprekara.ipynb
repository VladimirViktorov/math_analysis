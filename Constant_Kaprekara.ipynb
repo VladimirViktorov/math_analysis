{
 "cells": [
  {
   "cell_type": "markdown",
   "metadata": {},
   "source": [
    "# numerics(n)\n",
    "\n",
    "Напишите функцию numerics(n), принимающую на вход 1 натуральное 4х значное число, а возвращающую список цифр из которых состоит число.\n",
    "\n",
    "Если какая-то цифра встречается в исходном числе несколько раз, то и в ответе она должна встретиться несколько раз (это критично, т.к. потом мы будем составлять из этих цифр снова 4х значные числа). Порядок цифр в ответе не важен."
   ]
  },
  {
   "cell_type": "code",
   "execution_count": 32,
   "metadata": {},
   "outputs": [],
   "source": [
    "def numerics(n):\n",
    "    return list(map(int, str(n)))"
   ]
  },
  {
   "cell_type": "code",
   "execution_count": 3,
   "metadata": {},
   "outputs": [
    {
     "name": "stdout",
     "output_type": "stream",
     "text": [
      "['1', '2', '3', '4']\n"
     ]
    }
   ],
   "source": []
  },
  {
   "cell_type": "code",
   "execution_count": 8,
   "metadata": {},
   "outputs": [
    {
     "name": "stdout",
     "output_type": "stream",
     "text": [
      "[4, 5, 6, 8]\n"
     ]
    }
   ],
   "source": [
    "L = 4568\n",
    "L = numerics(L)\n",
    "print(L)"
   ]
  },
  {
   "cell_type": "markdown",
   "metadata": {},
   "source": [
    "# kaprekar_step(L)\n",
    "\n",
    "Напишите функцию kaprekar_step(L), принимающую на вход список натуральных чисел (цифр из которых состоит число, проходящее через процесс Капрекара), проводит 1 шаг сходимости к постоянной Капрекара и возвращает 4х значное число.\n",
    "\n",
    "Функция должна сформировать внутри 2 числа:\n",
    "* в порядке увеличения цифр в исходном списке\n",
    "*в порядке уменьшения цифр в исходном списке\n",
    "\n",
    "Вычесть из большего числа меньшее и вернуть результат."
   ]
  },
  {
   "cell_type": "code",
   "execution_count": 18,
   "metadata": {},
   "outputs": [],
   "source": [
    "def kaprekar_step(L):\n",
    "    L = sorted(L)\n",
    "    a = L[3] * 1000 + L[2] * 100 + L[1] * 10 + L[0]\n",
    "    b = L[0] * 1000 + L[1] * 100 + L[2] * 10 + L[3]\n",
    "    return a - b"
   ]
  },
  {
   "cell_type": "code",
   "execution_count": 31,
   "metadata": {},
   "outputs": [],
   "source": [
    "def kaprekar_step(L):\n",
    "    min_number_str = ''.join(map(str, sorted(L)))\n",
    "    return int(min_number_str[::-1]) - int(min_number_str)"
   ]
  },
  {
   "cell_type": "code",
   "execution_count": 23,
   "metadata": {
    "scrolled": true
   },
   "outputs": [
    {
     "name": "stdout",
     "output_type": "stream",
     "text": [
      "4086\n"
     ]
    }
   ],
   "source": [
    "print(kaprekar_step(L))"
   ]
  },
  {
   "cell_type": "markdown",
   "metadata": {},
   "source": [
    "# kaprekar_loop(n)\n",
    "\n",
    "Напишите функцию kaprekar_loop(n), которая принимает целое 4х значное число (больше 1000, содержащее хотя бы 2 разные цифры), и запускающую \"Процесс Капрекара\", выводящую на печать каждое число цикла с новой строки до тех пор, пока не будет получено число 6174 (каждое, включая 6174)."
   ]
  },
  {
   "cell_type": "code",
   "execution_count": 38,
   "metadata": {},
   "outputs": [],
   "source": [
    "def numerics(n):\n",
    "    return list(map(int, str(n)))\n",
    "\n",
    "def kaprekar_step(n):\n",
    "    min_number_str = ''.join(map(str, sorted(n)))\n",
    "    return int(min_number_str[::-1]) - int(min_number_str)\n",
    "\n",
    "def kaprekar_loop(n):\n",
    "    if n == 6174:\n",
    "        return print(n)\n",
    "    else: \n",
    "        print(n)\n",
    "        n = numerics(n)\n",
    "        kaprekar_loop(kaprekar_step(n))\n",
    "    "
   ]
  },
  {
   "cell_type": "code",
   "execution_count": 40,
   "metadata": {},
   "outputs": [
    {
     "name": "stdout",
     "output_type": "stream",
     "text": [
      "3445\n",
      "3445\n",
      "1998\n",
      "8082\n",
      "8532\n",
      "6174\n"
     ]
    }
   ],
   "source": [
    "n = int(input())\n",
    "kaprekar_loop(n)"
   ]
  },
  {
   "cell_type": "markdown",
   "metadata": {},
   "source": [
    "# kaprekar_loop(n) с валидацией входных данных\n",
    "\n",
    "Давайте улучшим нашу функцию kaprekar_loop(n). В документации к постоянной Капрекара мы видим, что процесс возможен при условии, что:\n",
    "* число больше 1000\n",
    "* не все цифры одинаковые\n",
    "\n",
    "Давайте добавим в нашу функцию проверку этих 2 условий. И при их наступлении выведем сообщение об ошибке, прервав процесс Капрекара:\n",
    "* \"Ошибка! На вход подано число 1000\"\n",
    "* \"Ошибка! На вход подано число {} - все цифры одинаковые\""
   ]
  },
  {
   "cell_type": "code",
   "execution_count": 5,
   "metadata": {},
   "outputs": [],
   "source": [
    "def numerics(n):\n",
    "    return list(map(int, str(n)))\n",
    "\n",
    "def kaprekar_step(n):\n",
    "    min_number_str = ''.join(map(str, sorted(n)))\n",
    "    return int(min_number_str[::-1]) - int(min_number_str)\n",
    "\n",
    "def kaprekar_loop(n):\n",
    "    n1 = numerics(n)\n",
    "    if n == 1000:\n",
    "        return print('Ошибка! На вход подано число 1000')\n",
    "    elif len(set(n1)) == 1:\n",
    "        return print(f'Ошибка! На вход подано число {n} - все цифры одинаковые')\n",
    "    elif n == 6174:\n",
    "        return print(n)\n",
    "    else: \n",
    "        print(n)\n",
    "        n = numerics(n)\n",
    "        kaprekar_loop(kaprekar_step(n))\n",
    "    "
   ]
  },
  {
   "cell_type": "code",
   "execution_count": 10,
   "metadata": {},
   "outputs": [
    {
     "name": "stdout",
     "output_type": "stream",
     "text": [
      "3434\n",
      "3434\n",
      "1089\n",
      "9621\n",
      "8352\n",
      "6174\n"
     ]
    }
   ],
   "source": [
    "n = int(input())\n",
    "kaprekar_loop(n)"
   ]
  },
  {
   "cell_type": "markdown",
   "metadata": {},
   "source": [
    "# kaprekar_check(n)\n",
    "Напишите функцию kaprekar_check(n), принимающую на вход 1 натуральное число, а возвращающую логическое значение (True или False) в зависимости от предварительной проверки на возможность прохождения Процесса Капрекара для него.\n",
    "\n",
    "Критерии возможности:\n",
    "* число 3, 4 или 6 значное\n",
    "* не все цифры в числе одинаковые\n",
    "* число не равно 100, 1000 или 100000"
   ]
  },
  {
   "cell_type": "code",
   "execution_count": 42,
   "metadata": {},
   "outputs": [],
   "source": [
    "def kaprekar_check(n):\n",
    "    s = str(n)\n",
    "    return (len(s) in [3, 4, 6]) and (len(set(s)) > 1) and (n not in [100, 1000, 100000])"
   ]
  },
  {
   "cell_type": "code",
   "execution_count": 43,
   "metadata": {},
   "outputs": [
    {
     "name": "stdout",
     "output_type": "stream",
     "text": [
      "324235\n",
      "True\n"
     ]
    }
   ],
   "source": [
    "n = int(input())\n",
    "print(kaprekar_check(n))"
   ]
  },
  {
   "cell_type": "markdown",
   "metadata": {},
   "source": [
    "# kaprekar_loop(n) ver.2\n",
    "Пришло время объединить все наши наработки.\n",
    "\n",
    "Напишите функцию kaprekar_loop(n), которая принимает целое число, и запускающую \"Процесс Капрекара\" (если это возможно), выводящее на печать каждое число цикла с новой строки до тех пор, пока не будет получено число Капрекара.\n",
    "\n",
    "Конечных постоянных Капрекара (таких, которые в результате процесса переходят сами в себя) известно 4: 495, 6174, 549945, 631764.\n",
    "Для некоторых 6-значных чисел возможно не будет найдена постоянная Капрекара, но процесс \"зациклится\", т.е. одни и те же числа будут получаться по кругу. В этом случае необходимо прервать процедуру на первом повторном числе.\n",
    "\n",
    "Таким образом возможны 3 случая:\n",
    "* Число не удовлетворяет условиям процесса Капрекара - выводим сообщение \"Ошибка! На вход подано число {}, не удовлетворяющее условиям процесса Капрекара\"\n",
    "* Процесс Капрекара сойдётся к постоянной Капрекара (495, 6174, 549945 или 631764) - выводим на печать все числа, начиная с исходного и до постоянной Капрекара, каждое с новой строки\n",
    "* Процесс Капрекара зациклится - выводим все числа до момента зацикливания, после чего выводим сообщение \"Следующее число - {}, кажется процесс зациклился...\"\n"
   ]
  },
  {
   "cell_type": "code",
   "execution_count": 61,
   "metadata": {},
   "outputs": [
    {
     "name": "stdout",
     "output_type": "stream",
     "text": [
      "103303\n",
      "103303\n",
      "331767\n",
      "642654\n",
      "420876\n",
      "851742\n",
      "750843\n",
      "840852\n",
      "860832\n",
      "862632\n",
      "Следующее число - 642654, кажется процесс зациклился...\n"
     ]
    }
   ],
   "source": [
    "def numerics(n):\n",
    "    return list(map(int, str(n)))\n",
    "\n",
    "def kaprekar_check(n):\n",
    "    s = str(n)\n",
    "    return (len(s) in [3, 4, 6]) and (len(set(s)) > 1) and (n not in [100, 1000, 100000])\n",
    "\n",
    "def kaprekar_step(n):\n",
    "    min_number_str = ''.join(map(str, sorted(n)))\n",
    "    return int(min_number_str[::-1]) - int(min_number_str)\n",
    "\n",
    "\n",
    "def kaprekar_loop(n):\n",
    "    if kaprekar_check(n) == True:\n",
    "        if n in [495, 6174, 549945, 631764]:\n",
    "            return print(n)\n",
    "        else:\n",
    "            if n in a:\n",
    "                return print(f'Следующее число - {n}, кажется процесс зациклился...')\n",
    "            else:\n",
    "                a.add(n)\n",
    "                print(n)\n",
    "                n = numerics(n)\n",
    "                kaprekar_loop(kaprekar_step(n))\n",
    "    else:\n",
    "        return print(f'Ошибка! На вход подано число {n}, не удовлетворяющее условиям процесса Капрекара')\n",
    "    \n",
    "    \n",
    "n = int(input())\n",
    "a = {1}\n",
    "kaprekar_loop(n)"
   ]
  }
 ],
 "metadata": {
  "kernelspec": {
   "display_name": "Python 3",
   "language": "python",
   "name": "python3"
  },
  "language_info": {
   "codemirror_mode": {
    "name": "ipython",
    "version": 3
   },
   "file_extension": ".py",
   "mimetype": "text/x-python",
   "name": "python",
   "nbconvert_exporter": "python",
   "pygments_lexer": "ipython3",
   "version": "3.9.0"
  }
 },
 "nbformat": 4,
 "nbformat_minor": 4
}
